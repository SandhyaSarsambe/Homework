{
 "cells": [
  {
   "cell_type": "raw",
   "id": "f6eeafbc",
   "metadata": {},
   "source": [
    "Q.1 What [] exactly is?\n",
    "This is the brackett used to create list. [] means this is empty list with no elements."
   ]
  },
  {
   "cell_type": "code",
   "execution_count": 7,
   "id": "5b01a1c4",
   "metadata": {},
   "outputs": [],
   "source": [
    "#Q.2 \n",
    "spam=[2, 4, 6, 8, 10]\n",
    "spam.insert(2, \"hello\")"
   ]
  },
  {
   "cell_type": "code",
   "execution_count": 8,
   "id": "9fd187de",
   "metadata": {},
   "outputs": [
    {
     "data": {
      "text/plain": [
       "[2, 4, 'hello', 6, 8, 10]"
      ]
     },
     "execution_count": 8,
     "metadata": {},
     "output_type": "execute_result"
    }
   ],
   "source": [
    "spam"
   ]
  },
  {
   "cell_type": "code",
   "execution_count": 9,
   "id": "a28c33a6",
   "metadata": {},
   "outputs": [],
   "source": [
    "spam=['a', 'b', 'c', 'd']"
   ]
  },
  {
   "cell_type": "code",
   "execution_count": 10,
   "id": "fddf1834",
   "metadata": {},
   "outputs": [
    {
     "data": {
      "text/plain": [
       "'d'"
      ]
     },
     "execution_count": 10,
     "metadata": {},
     "output_type": "execute_result"
    }
   ],
   "source": [
    "#Q.3\n",
    "spam[int(int('3' * 2) / 11)]"
   ]
  },
  {
   "cell_type": "code",
   "execution_count": 11,
   "id": "35d36fa0",
   "metadata": {},
   "outputs": [
    {
     "data": {
      "text/plain": [
       "'d'"
      ]
     },
     "execution_count": 11,
     "metadata": {},
     "output_type": "execute_result"
    }
   ],
   "source": [
    "#Q. 4\n",
    "spam[-1]"
   ]
  },
  {
   "cell_type": "code",
   "execution_count": 12,
   "id": "d429eee8",
   "metadata": {},
   "outputs": [
    {
     "data": {
      "text/plain": [
       "['a', 'b']"
      ]
     },
     "execution_count": 12,
     "metadata": {},
     "output_type": "execute_result"
    }
   ],
   "source": [
    "#Q.5\n",
    "spam[:2]"
   ]
  },
  {
   "cell_type": "code",
   "execution_count": 14,
   "id": "20768cd6",
   "metadata": {},
   "outputs": [],
   "source": [
    "bacon=[3.14, 'cat', 11, 'cat', True]"
   ]
  },
  {
   "cell_type": "code",
   "execution_count": 15,
   "id": "ccd42885",
   "metadata": {},
   "outputs": [
    {
     "data": {
      "text/plain": [
       "1"
      ]
     },
     "execution_count": 15,
     "metadata": {},
     "output_type": "execute_result"
    }
   ],
   "source": [
    "#Q.6\n",
    "bacon.index('cat')"
   ]
  },
  {
   "cell_type": "code",
   "execution_count": 16,
   "id": "deca21be",
   "metadata": {},
   "outputs": [],
   "source": [
    "#Q.7\n",
    "bacon.append(99) "
   ]
  },
  {
   "cell_type": "code",
   "execution_count": 17,
   "id": "35748fe6",
   "metadata": {},
   "outputs": [
    {
     "data": {
      "text/plain": [
       "[3.14, 'cat', 11, 'cat', True, 99]"
      ]
     },
     "execution_count": 17,
     "metadata": {},
     "output_type": "execute_result"
    }
   ],
   "source": [
    "bacon"
   ]
  },
  {
   "cell_type": "code",
   "execution_count": 18,
   "id": "3708e4af",
   "metadata": {},
   "outputs": [],
   "source": [
    "#Q.8\n",
    "bacon.remove('cat') "
   ]
  },
  {
   "cell_type": "code",
   "execution_count": 19,
   "id": "ffd20326",
   "metadata": {},
   "outputs": [
    {
     "data": {
      "text/plain": [
       "[3.14, 11, 'cat', True, 99]"
      ]
     },
     "execution_count": 19,
     "metadata": {},
     "output_type": "execute_result"
    }
   ],
   "source": [
    "bacon"
   ]
  },
  {
   "cell_type": "raw",
   "id": "45cbb4e0",
   "metadata": {},
   "source": [
    "Q.9 List concatenation and list replication operators\n",
    "+ is the concatenation operator it joins the lists while * is the replication operator it create multiple copies of list. "
   ]
  },
  {
   "cell_type": "raw",
   "id": "efd34406",
   "metadata": {},
   "source": [
    "Q.10 Difference between append() and insert()\n",
    "Difference between append and insert is append add the element in the list at the last index while insert add the element in the list at the given index. "
   ]
  },
  {
   "cell_type": "raw",
   "id": "d2d7bb8d",
   "metadata": {},
   "source": [
    "Q. 11 Two remove methods for removing items\n",
    "1. remove() This is one method. In this method we have to specify the item name which we want to remove\n",
    "2. pop() This is the second method. In this method, the item will be remove and return it. In this method, we specify the index of item which we want to remove."
   ]
  },
  {
   "cell_type": "raw",
   "id": "1e90c98a",
   "metadata": {},
   "source": [
    "Q.12 How list values and string values are identical\n",
    "List values and string values both contains sequences. List and string values both have indexes and slices, for both we can use len()."
   ]
  },
  {
   "cell_type": "raw",
   "id": "f11cdaa1",
   "metadata": {},
   "source": [
    "Q.13 Difference between tuples and lists\n",
    "For creating list, we use [] brackett and for creating tuples, we use () brackett.\n",
    "Lists are MUTABLE and Tuples are IMMUTABLE. "
   ]
  },
  {
   "cell_type": "raw",
   "id": "bf20228c",
   "metadata": {},
   "source": [
    "Q.14 type tuple\n",
    "t= (42,)"
   ]
  },
  {
   "cell_type": "raw",
   "id": "7e443c82",
   "metadata": {},
   "source": [
    "Q.15 List value's tuple form and tuple value's list form\n",
    "List value's tuple form - By enclosing list values in () this brackett we get list value's tuple form.\n",
    "Ex. t=([1,2,3], [\"sandhya\", 3787])\n",
    "Tuple value's list form - By enclosing tuple values in square brackett [] we get tuple value's list form.\n",
    "Ex. l=[(4,5,7), (\"abc\", 5675)]"
   ]
  },
  {
   "cell_type": "raw",
   "id": "07eda5d1",
   "metadata": {},
   "source": [
    "Q.16 . Variables that \"contain\" list values are not necessarily lists themselves. Instead, what do they contain?\n",
    "They contain just references to list values."
   ]
  },
  {
   "cell_type": "raw",
   "id": "e5098cc5",
   "metadata": {},
   "source": [
    "Q. 17 Difference between copy.copy() and copy.deepcopy()\n",
    "If we do .copy(), it creates new file and it changes the original file while by doing .deepcopy(), it creates new copied file but it doesn't affect the orginal file."
   ]
  }
 ],
 "metadata": {
  "kernelspec": {
   "display_name": "Python 3 (ipykernel)",
   "language": "python",
   "name": "python3"
  },
  "language_info": {
   "codemirror_mode": {
    "name": "ipython",
    "version": 3
   },
   "file_extension": ".py",
   "mimetype": "text/x-python",
   "name": "python",
   "nbconvert_exporter": "python",
   "pygments_lexer": "ipython3",
   "version": "3.9.12"
  }
 },
 "nbformat": 4,
 "nbformat_minor": 5
}
