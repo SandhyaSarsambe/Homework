{
 "cells": [
  {
   "cell_type": "code",
   "execution_count": 1,
   "id": "07d376df",
   "metadata": {},
   "outputs": [
    {
     "name": "stdout",
     "output_type": "stream",
     "text": [
      "enter a number to find the fibonacci series : 5\n",
      "Fibonacci series upto  5 :\n",
      "0 1 1 2 3 "
     ]
    }
   ],
   "source": [
    "#Q.1 fibonacci using recursion\n",
    "def fibo(n):\n",
    "    if n <= 1:\n",
    "        return n\n",
    "    else:\n",
    "        return fibo(n-1) +  fibo(n-2)\n",
    "sequence = int(input(\"enter a number to find the fibonacci series : \"))\n",
    "\n",
    "\n",
    "if sequence <= 0:\n",
    "    print(\"Please enter a positive number\")\n",
    "elif sequence == 1:\n",
    "    print(\"Fibonacci series upto \",sequence, \":\")\n",
    "    print(f1)\n",
    "else:\n",
    "    print(\"Fibonacci series upto \",sequence, \":\")\n",
    "    for i in range(sequence):       \n",
    "        print(fibo(i),end=' ')\n",
    "        "
   ]
  },
  {
   "cell_type": "code",
   "execution_count": 2,
   "id": "f84f5801",
   "metadata": {},
   "outputs": [
    {
     "name": "stdout",
     "output_type": "stream",
     "text": [
      "Enter a Number to find factorial : 5\n",
      "Factorial of 5 is 120\n"
     ]
    }
   ],
   "source": [
    "#Q.2 Factorial using recursion\n",
    "def fact(n):  \n",
    "    if n == 1:\n",
    "        return n\n",
    "    else:\n",
    "        return n * fact(n-1)   \n",
    "        \n",
    "\n",
    "num = int(input(\"Enter a Number to find factorial : \"))\n",
    "if num < 0:\n",
    "    print(\"Can not calculate Factorial of a negative number\")        \n",
    "elif num == 0:\n",
    "    print(\"Factorial of zero is 1\")\n",
    "else:\n",
    "    print(\"Factorial of {} is {}\".format(num, fact(num)))"
   ]
  },
  {
   "cell_type": "code",
   "execution_count": 3,
   "id": "9e4e1f9f",
   "metadata": {},
   "outputs": [
    {
     "name": "stdout",
     "output_type": "stream",
     "text": [
      "Enter value for height in feet:7\n",
      "Enter value for weight in kilo:57\n",
      "The value of BMI is 1.163265306122449\n"
     ]
    }
   ],
   "source": [
    "#Q.3 Mass body index\n",
    "h=float(input(\"Enter value for height in feet:\"))\n",
    "w=float(input(\"Enter value for weight in kilo:\"))\n",
    "BMI = w/(h*h)\n",
    "print(\"The value of BMI is\", BMI)"
   ]
  },
  {
   "cell_type": "code",
   "execution_count": 4,
   "id": "f0730b8b",
   "metadata": {},
   "outputs": [
    {
     "name": "stdout",
     "output_type": "stream",
     "text": [
      "Enter value for log:2\n",
      "The value of logarithm is 0.6931471805599453\n"
     ]
    }
   ],
   "source": [
    "#Q.4 Natural log of no.\n",
    "import math\n",
    "x=int(input(\"Enter value for log:\"))\n",
    "log = math.log(x)\n",
    "print(\"The value of logarithm is\", log)"
   ]
  },
  {
   "cell_type": "code",
   "execution_count": 6,
   "id": "c419f92d",
   "metadata": {},
   "outputs": [
    {
     "name": "stdout",
     "output_type": "stream",
     "text": [
      "Enter a value:5\n",
      "The cube sum of natural no.s is 225\n"
     ]
    }
   ],
   "source": [
    "#Q.5 Cube sum of natural no.s\n",
    "n=int(input(\"Enter a value:\"))\n",
    "i=1\n",
    "sum=0\n",
    "while i<=n:\n",
    "    sum = sum+(i*i*i)\n",
    "    i=i+1\n",
    "print(\"The cube sum of natural no.s is\", sum)\n",
    "    \n",
    "    "
   ]
  },
  {
   "cell_type": "code",
   "execution_count": null,
   "id": "2c0989a9",
   "metadata": {},
   "outputs": [],
   "source": []
  }
 ],
 "metadata": {
  "kernelspec": {
   "display_name": "Python 3 (ipykernel)",
   "language": "python",
   "name": "python3"
  },
  "language_info": {
   "codemirror_mode": {
    "name": "ipython",
    "version": 3
   },
   "file_extension": ".py",
   "mimetype": "text/x-python",
   "name": "python",
   "nbconvert_exporter": "python",
   "pygments_lexer": "ipython3",
   "version": "3.9.12"
  }
 },
 "nbformat": 4,
 "nbformat_minor": 5
}
