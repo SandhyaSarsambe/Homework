{
 "cells": [
  {
   "cell_type": "code",
   "execution_count": 1,
   "id": "0a9473fa",
   "metadata": {},
   "outputs": [
    {
     "name": "stdout",
     "output_type": "stream",
     "text": [
      "iNeuron\n"
     ]
    }
   ],
   "source": [
    "#Q.1\n",
    "X='iNeuron'\n",
    "def func():\n",
    "    print(X)\n",
    "    \n",
    "func()"
   ]
  },
  {
   "cell_type": "raw",
   "id": "12177910",
   "metadata": {},
   "source": [
    "Here when func() is called it will execute the statement written inside it which print the value of x whose value is assigned as 'iNeuron'.\n",
    "Here X will act as global variable."
   ]
  },
  {
   "cell_type": "code",
   "execution_count": 2,
   "id": "c0761a6c",
   "metadata": {},
   "outputs": [],
   "source": [
    "#Q.2\n",
    "X='iNeuron'\n",
    "def func():\n",
    "    X='NI!'\n",
    "    "
   ]
  },
  {
   "cell_type": "code",
   "execution_count": 3,
   "id": "e39921a9",
   "metadata": {},
   "outputs": [
    {
     "name": "stdout",
     "output_type": "stream",
     "text": [
      "iNeuron\n"
     ]
    }
   ],
   "source": [
    "func()\n",
    "print(X)"
   ]
  },
  {
   "cell_type": "raw",
   "id": "ac49db2c",
   "metadata": {},
   "source": [
    "Here when func() is called it will execute the statement written inside it which only initialize value of x='NI' but it doesnot return anything(None).So it comes out of the block and doesnot print anything. Again when print(x) is executed it prints the value of X = 'iNeuron'."
   ]
  },
  {
   "cell_type": "code",
   "execution_count": 4,
   "id": "22638b66",
   "metadata": {},
   "outputs": [],
   "source": [
    "#Q.3\n",
    "X='iNeuron'\n",
    "def func():\n",
    "    X='NI!'\n",
    "    print(X)"
   ]
  },
  {
   "cell_type": "code",
   "execution_count": 5,
   "id": "235c7046",
   "metadata": {},
   "outputs": [
    {
     "name": "stdout",
     "output_type": "stream",
     "text": [
      "NI!\n"
     ]
    }
   ],
   "source": [
    "func()"
   ]
  },
  {
   "cell_type": "code",
   "execution_count": 6,
   "id": "6c3e049f",
   "metadata": {},
   "outputs": [
    {
     "name": "stdout",
     "output_type": "stream",
     "text": [
      "iNeuron\n"
     ]
    }
   ],
   "source": [
    "print(X)"
   ]
  },
  {
   "cell_type": "raw",
   "id": "91e2d049",
   "metadata": {},
   "source": [
    "Here when func() is called it will execute the statement written inside it which initialize value of x='NI' and subsequently print the value of X.The scope of X = 'NI'is within the block func(). But when a print statement i.e print(X) is executed it prints x value as iNeuron.(X is treated as global variable)"
   ]
  },
  {
   "cell_type": "code",
   "execution_count": 7,
   "id": "36da7466",
   "metadata": {},
   "outputs": [],
   "source": [
    "#Q.4\n",
    "X='iNeuron'\n",
    "def func():\n",
    "    global X\n",
    "    X='NI'"
   ]
  },
  {
   "cell_type": "code",
   "execution_count": 8,
   "id": "17c87f9f",
   "metadata": {},
   "outputs": [],
   "source": [
    "func()"
   ]
  },
  {
   "cell_type": "code",
   "execution_count": 9,
   "id": "ad1a90d2",
   "metadata": {},
   "outputs": [
    {
     "name": "stdout",
     "output_type": "stream",
     "text": [
      "NI\n"
     ]
    }
   ],
   "source": [
    "print(X)"
   ]
  },
  {
   "cell_type": "raw",
   "id": "a599198d",
   "metadata": {},
   "source": [
    "Here in func() we have declared X as global variable hence it's previous value i.e 'iNeuron' is overrided and when print(x) is executed it prints latest updated value i.e 'NI'."
   ]
  },
  {
   "cell_type": "code",
   "execution_count": 11,
   "id": "c66f3f73",
   "metadata": {},
   "outputs": [
    {
     "name": "stdout",
     "output_type": "stream",
     "text": [
      "iNeuron\n"
     ]
    }
   ],
   "source": [
    "#Q.5\n",
    "X='iNeuron'\n",
    "def func():\n",
    "    X='NI'\n",
    "def nested():\n",
    "    print(X)\n",
    "nested()"
   ]
  },
  {
   "cell_type": "code",
   "execution_count": 12,
   "id": "2d240029",
   "metadata": {},
   "outputs": [],
   "source": [
    "func()"
   ]
  },
  {
   "cell_type": "code",
   "execution_count": 13,
   "id": "13dc4822",
   "metadata": {},
   "outputs": [
    {
     "data": {
      "text/plain": [
       "'iNeuron'"
      ]
     },
     "execution_count": 13,
     "metadata": {},
     "output_type": "execute_result"
    }
   ],
   "source": [
    "X"
   ]
  },
  {
   "cell_type": "raw",
   "id": "89232906",
   "metadata": {},
   "source": [
    "Here when nested() is called it prints X = 'iNeuron'(Global variable). In func(), X = 'NI' the scope of X is within func() as it is a local variable."
   ]
  },
  {
   "cell_type": "code",
   "execution_count": 14,
   "id": "48fcfc68",
   "metadata": {},
   "outputs": [
    {
     "ename": "SyntaxError",
     "evalue": "no binding for nonlocal 'X' found (1368742544.py, line 5)",
     "output_type": "error",
     "traceback": [
      "\u001b[1;36m  Input \u001b[1;32mIn [14]\u001b[1;36m\u001b[0m\n\u001b[1;33m    nonlocal X\u001b[0m\n\u001b[1;37m    ^\u001b[0m\n\u001b[1;31mSyntaxError\u001b[0m\u001b[1;31m:\u001b[0m no binding for nonlocal 'X' found\n"
     ]
    }
   ],
   "source": [
    "#Q.6\n",
    "def func():\n",
    "    X = 'NI'\n",
    "def nested():\n",
    "    nonlocal X\n",
    "    X = 'Spam'\n",
    "nested()\n",
    "print(X)"
   ]
  },
  {
   "cell_type": "code",
   "execution_count": 15,
   "id": "7e9412cc",
   "metadata": {},
   "outputs": [],
   "source": [
    "func()"
   ]
  },
  {
   "cell_type": "raw",
   "id": "b3e4ab83",
   "metadata": {},
   "source": [
    "A variable if we want to access outside the block as well as within the block should be declared as global."
   ]
  }
 ],
 "metadata": {
  "kernelspec": {
   "display_name": "Python 3 (ipykernel)",
   "language": "python",
   "name": "python3"
  },
  "language_info": {
   "codemirror_mode": {
    "name": "ipython",
    "version": 3
   },
   "file_extension": ".py",
   "mimetype": "text/x-python",
   "name": "python",
   "nbconvert_exporter": "python",
   "pygments_lexer": "ipython3",
   "version": "3.9.12"
  }
 },
 "nbformat": 4,
 "nbformat_minor": 5
}
