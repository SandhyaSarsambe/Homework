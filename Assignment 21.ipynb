{
 "cells": [
  {
   "cell_type": "code",
   "execution_count": 1,
   "id": "2718bfbd",
   "metadata": {},
   "outputs": [],
   "source": [
    "#Q.1 Add datetime\n",
    "from datetime import date\n",
    "now = date.today()\n",
    "now_str = now.isoformat()\n",
    "with open('today', 'wt') as output:\n",
    "    print(now_str, file=output)"
   ]
  },
  {
   "cell_type": "code",
   "execution_count": 2,
   "id": "10945cef",
   "metadata": {},
   "outputs": [
    {
     "name": "stdout",
     "output_type": "stream",
     "text": [
      "2022-11-29\n"
     ]
    }
   ],
   "source": [
    "print(now_str)"
   ]
  },
  {
   "cell_type": "code",
   "execution_count": 3,
   "id": "6d9ecb46",
   "metadata": {},
   "outputs": [],
   "source": [
    "#Q.2 Read the text file\n",
    "with open('today', 'rt') as input:\n",
    "    today_string = input.read()\n",
    "    "
   ]
  },
  {
   "cell_type": "code",
   "execution_count": 4,
   "id": "08e0c804",
   "metadata": {},
   "outputs": [
    {
     "data": {
      "text/plain": [
       "'2022-11-29\\n'"
      ]
     },
     "execution_count": 4,
     "metadata": {},
     "output_type": "execute_result"
    }
   ],
   "source": [
    "today_string"
   ]
  },
  {
   "cell_type": "code",
   "execution_count": 8,
   "id": "742bdd39",
   "metadata": {},
   "outputs": [],
   "source": [
    "#Q.3 Parse the date from today string\n",
    "fmt=\"%y-%m-%d\\n\"\n"
   ]
  },
  {
   "cell_type": "raw",
   "id": "f10aa7db",
   "metadata": {},
   "source": [
    "datetime.strptime(today_string, fmt)"
   ]
  },
  {
   "cell_type": "code",
   "execution_count": 11,
   "id": "89e93a88",
   "metadata": {},
   "outputs": [
    {
     "data": {
      "text/plain": [
       "['.astropy',\n",
       " '.bash_history',\n",
       " '.conda',\n",
       " '.condarc',\n",
       " '.continuum',\n",
       " '.cufflinks',\n",
       " '.git',\n",
       " '.gitconfig',\n",
       " '.ipynb_checkpoints',\n",
       " '.ipython',\n",
       " '.jupyter',\n",
       " '.matplotlib',\n",
       " '1st task on EDA.ipynb',\n",
       " '3D Objects',\n",
       " 'abc.txt',\n",
       " 'AgentPerformance (1).xlsx - Agent Performance Report.csv',\n",
       " 'Agent_Login_Report (4).xls - Agent Login Report.csv',\n",
       " 'anaconda3',\n",
       " 'analyze_report.html',\n",
       " 'AppData',\n",
       " 'Application Data',\n",
       " 'Assign-ment 24.ipynb',\n",
       " 'Assignment 1 solution.ipynb',\n",
       " 'Assignment 11.ipynb',\n",
       " 'Assignment 16.ipynb',\n",
       " 'Assignment 17.ipynb',\n",
       " 'Assignment 2 solution.ipynb',\n",
       " 'Assignment 21.ipynb',\n",
       " 'Assignment 22.ipynb',\n",
       " 'Assignment 23.ipynb',\n",
       " 'Assignment 25.ipynb',\n",
       " 'Assignment 4 solution.ipynb',\n",
       " 'Assignment 5 solution.ipynb',\n",
       " 'Assignment 6.ipynb',\n",
       " 'Assignment solution3 .ipynb',\n",
       " 'Basic of functions.ipynb',\n",
       " 'chromedriver.exe',\n",
       " 'Contacts',\n",
       " 'Cookies',\n",
       " 'Copy of Attribute DataSet.xlsx',\n",
       " 'Daily practise ques.ipynb',\n",
       " 'Decision Tree.ipynb',\n",
       " 'Desktop',\n",
       " 'Documents',\n",
       " 'Downloads',\n",
       " 'downloads-Copy1.ipynb',\n",
       " 'downloads.ipynb',\n",
       " 'DressSales.csv',\n",
       " 'EDA 1.ipynb',\n",
       " 'Exception handling revision.ipynb',\n",
       " 'exception handling.ipynb',\n",
       " 'Favorites',\n",
       " 'FitBit data.csv',\n",
       " 'function.ipynb',\n",
       " 'if, elif, else statement.ipynb',\n",
       " 'IntelGraphicsProfiles',\n",
       " 'Iterator, Generator, File operation, map, reduce, filter .ipynb',\n",
       " 'last yr function.ipynb',\n",
       " 'last yr.ipynb',\n",
       " 'Links',\n",
       " 'list manipulation previous.ipynb',\n",
       " 'list, tuple,dict,ser.ipynb',\n",
       " 'Local Settings',\n",
       " 'ML linear regression, ridge regression, Lasso and elasticnet practical.ipynb',\n",
       " 'Music',\n",
       " 'My Documents',\n",
       " 'NetHood',\n",
       " 'New practise.ipynb',\n",
       " 'NTUSER.DAT',\n",
       " 'ntuser.dat.LOG1',\n",
       " 'ntuser.dat.LOG2',\n",
       " 'NTUSER.DAT{bf54a94f-2704-11e5-80db-e41d2d743300}.TM.blf',\n",
       " 'NTUSER.DAT{bf54a94f-2704-11e5-80db-e41d2d743300}.TMContainer00000000000000000001.regtrans-ms',\n",
       " 'NTUSER.DAT{bf54a94f-2704-11e5-80db-e41d2d743300}.TMContainer00000000000000000002.regtrans-ms',\n",
       " 'ntuser.ini',\n",
       " 'Numpy Day 2.ipynb',\n",
       " 'Numpy day1.ipynb',\n",
       " 'OneDrive',\n",
       " 'panda.ipynb',\n",
       " 'Pandas day3.ipynb',\n",
       " 'Pandas day4.ipynb',\n",
       " 'pandas.ipynb',\n",
       " 'Pictures',\n",
       " 'Postman',\n",
       " 'PrintHood',\n",
       " 'Programing assignment 20.ipynb',\n",
       " 'programing assignment 25.ipynb',\n",
       " 'Programming assignment 10.ipynb',\n",
       " 'Programming assignment 11.ipynb',\n",
       " 'Programming assignment 12.ipynb',\n",
       " 'programming assignment 13 solution.ipynb',\n",
       " 'programming assignment 14.ipynb',\n",
       " 'Programming Assignment 15.ipynb',\n",
       " 'Programming Assignment 16.ipynb',\n",
       " 'Programming assignment 17.ipynb',\n",
       " 'Programming Assignment 18.ipynb',\n",
       " 'Programming assignment 19.ipynb',\n",
       " 'Programming Assignment 21.ipynb',\n",
       " 'Programming assignment 22.ipynb',\n",
       " 'Programming Assignment 23.ipynb',\n",
       " 'programming assignment 24.ipynb',\n",
       " 'Programming assignment 3 solution.ipynb',\n",
       " 'Programming assignment 4.ipynb',\n",
       " 'Programming Assignment 5 solution.ipynb',\n",
       " 'programming assignment 6.ipynb',\n",
       " 'Programming assignment 7.ipynb',\n",
       " 'Programming Assignment solution 8 Sandhya Sarsambe.ipynb',\n",
       " 'Programming assignment solution 9.ipynb',\n",
       " 'Programming Assignment solution5.ipynb',\n",
       " 'PycharmProjects',\n",
       " 'Python project.ipynb',\n",
       " 'Python project1.ipynb',\n",
       " 'Que on List, Dict, tuple, Set.ipynb',\n",
       " 'Recent',\n",
       " 'sales_data_final.csv',\n",
       " 'Sandhya HW1.ipynb',\n",
       " 'Sandhya programming assignment 2 solution.ipynb',\n",
       " 'Sandhya Sarsambe Programming Assignment 1 Solution.ipynb',\n",
       " 'Saved Games',\n",
       " 'seaborn-data',\n",
       " 'Searches',\n",
       " 'SendTo',\n",
       " 'Star printing.ipynb',\n",
       " 'Start Menu',\n",
       " 'Stat Day 4.ipynb',\n",
       " 'String function.ipynb',\n",
       " 'student.csv',\n",
       " 'sudh1.txt',\n",
       " 'Superstore_USA.xlsx - Orders (1).csv',\n",
       " 'Superstore_USA.xlsx - Returns.csv',\n",
       " 'Superstore_USA1.csv',\n",
       " 'task dated on 5th june.ipynb',\n",
       " 'task on pandas.ipynb',\n",
       " 'task revision.ipynb',\n",
       " 'Task solution on pandas .ipynb',\n",
       " 'Templates',\n",
       " 'test.dat',\n",
       " 'test.sudh',\n",
       " 'test.txt',\n",
       " 'test1.txt',\n",
       " 'test123.json',\n",
       " 'test2.txt',\n",
       " 'test5.txt',\n",
       " 'today',\n",
       " 'train.csv',\n",
       " 'Untitled.ipynb',\n",
       " 'Untitled1.ipynb',\n",
       " 'Untitled10.ipynb',\n",
       " 'Untitled11.ipynb',\n",
       " 'Untitled12.ipynb',\n",
       " 'Untitled13.ipynb',\n",
       " 'Untitled14.ipynb',\n",
       " 'Untitled15.ipynb',\n",
       " 'Untitled16.ipynb',\n",
       " 'Untitled17.ipynb',\n",
       " 'Untitled18.ipynb',\n",
       " 'Untitled19.ipynb',\n",
       " 'Untitled2.ipynb',\n",
       " 'Untitled20.ipynb',\n",
       " 'Untitled21.ipynb',\n",
       " 'Untitled22.ipynb',\n",
       " 'Untitled23.ipynb',\n",
       " 'Untitled24.ipynb',\n",
       " 'Untitled25.ipynb',\n",
       " 'Untitled26.ipynb',\n",
       " 'Untitled27.ipynb',\n",
       " 'Untitled28.ipynb',\n",
       " 'Untitled29.ipynb',\n",
       " 'Untitled3.ipynb',\n",
       " 'Untitled30.ipynb',\n",
       " 'Untitled31.ipynb',\n",
       " 'Untitled32.ipynb',\n",
       " 'Untitled33.ipynb',\n",
       " 'Untitled34.ipynb',\n",
       " 'Untitled35.ipynb',\n",
       " 'Untitled36.ipynb',\n",
       " 'Untitled37.ipynb',\n",
       " 'Untitled38.ipynb',\n",
       " 'Untitled39.ipynb',\n",
       " 'Untitled4.ipynb',\n",
       " 'Untitled40.ipynb',\n",
       " 'Untitled41.ipynb',\n",
       " 'Untitled5.ipynb',\n",
       " 'Untitled6.ipynb',\n",
       " 'Untitled7.ipynb',\n",
       " 'Untitled8.ipynb',\n",
       " 'Untitled9.ipynb',\n",
       " 'Videos',\n",
       " 'while.ipynb']"
      ]
     },
     "execution_count": 11,
     "metadata": {},
     "output_type": "execute_result"
    }
   ],
   "source": [
    "#Q.4 List of files in current dictionary\n",
    "import os\n",
    "os.listdir('.')"
   ]
  },
  {
   "cell_type": "code",
   "execution_count": 13,
   "id": "23ab5ea0",
   "metadata": {},
   "outputs": [
    {
     "data": {
      "text/plain": [
       "['admin',\n",
       " 'All Users',\n",
       " 'AppData',\n",
       " 'Default',\n",
       " 'Default User',\n",
       " 'desktop.ini',\n",
       " 'Public']"
      ]
     },
     "execution_count": 13,
     "metadata": {},
     "output_type": "execute_result"
    }
   ],
   "source": [
    "#Q.5 List of files in parent dictionary\n",
    "import os\n",
    "os.listdir('..')\n"
   ]
  },
  {
   "cell_type": "raw",
   "id": "5c4b97ae",
   "metadata": {},
   "source": [
    "#Q.6 \n",
    "import multiprocessing\n",
    "\n",
    "def now(seconds): \n",
    "    from datetime import datetime \n",
    "    from time import sleep(seconds) \n",
    "    print('wait', seconds, 'seconds, time is', datetime.utcnow())\n",
    "\n",
    "if name == 'main': \n",
    "    import random for n in range(3): \n",
    "        seconds = random.random() proc = multiprocessing.Process(target=now, args=(seconds,)) proc.start()"
   ]
  },
  {
   "cell_type": "code",
   "execution_count": 17,
   "id": "8207c50e",
   "metadata": {},
   "outputs": [
    {
     "data": {
      "text/plain": [
       "datetime.date(1995, 7, 11)"
      ]
     },
     "execution_count": 17,
     "metadata": {},
     "output_type": "execute_result"
    }
   ],
   "source": [
    "#Q.7\n",
    "my_day = date(1995, 7, 11)\n",
    "my_day"
   ]
  },
  {
   "cell_type": "code",
   "execution_count": 18,
   "id": "059cb2ff",
   "metadata": {},
   "outputs": [
    {
     "data": {
      "text/plain": [
       "1"
      ]
     },
     "execution_count": 18,
     "metadata": {},
     "output_type": "execute_result"
    }
   ],
   "source": [
    "#Q.8 \n",
    "my_day.weekday()"
   ]
  },
  {
   "cell_type": "code",
   "execution_count": 20,
   "id": "d19607c5",
   "metadata": {},
   "outputs": [
    {
     "data": {
      "text/plain": [
       "2"
      ]
     },
     "execution_count": 20,
     "metadata": {},
     "output_type": "execute_result"
    }
   ],
   "source": [
    "my_day.isoweekday()"
   ]
  },
  {
   "cell_type": "code",
   "execution_count": 21,
   "id": "e5e281ab",
   "metadata": {},
   "outputs": [
    {
     "data": {
      "text/plain": [
       "datetime.date(2022, 11, 26)"
      ]
     },
     "execution_count": 21,
     "metadata": {},
     "output_type": "execute_result"
    }
   ],
   "source": [
    "#Q.9\n",
    "from datetime import timedelta\n",
    "party_day = my_day + timedelta(days=10000)\n",
    "party_day"
   ]
  },
  {
   "cell_type": "code",
   "execution_count": null,
   "id": "040f0d1b",
   "metadata": {},
   "outputs": [],
   "source": []
  }
 ],
 "metadata": {
  "kernelspec": {
   "display_name": "Python 3 (ipykernel)",
   "language": "python",
   "name": "python3"
  },
  "language_info": {
   "codemirror_mode": {
    "name": "ipython",
    "version": 3
   },
   "file_extension": ".py",
   "mimetype": "text/x-python",
   "name": "python",
   "nbconvert_exporter": "python",
   "pygments_lexer": "ipython3",
   "version": "3.9.12"
  }
 },
 "nbformat": 4,
 "nbformat_minor": 5
}
