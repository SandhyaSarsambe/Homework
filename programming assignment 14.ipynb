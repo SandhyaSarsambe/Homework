{
 "cells": [
  {
   "cell_type": "code",
   "execution_count": 1,
   "id": "ce879185",
   "metadata": {},
   "outputs": [
    {
     "name": "stdout",
     "output_type": "stream",
     "text": [
      "17\n",
      "[0, 7, 14]\n",
      "0 True\n",
      "1 False\n",
      "2 False\n",
      "3 False\n",
      "4 False\n",
      "5 False\n",
      "6 False\n",
      "7 True\n",
      "8 False\n",
      "9 False\n",
      "10 False\n",
      "11 False\n",
      "12 False\n",
      "13 False\n",
      "14 True\n",
      "15 False\n",
      "16 False\n"
     ]
    }
   ],
   "source": [
    "#Q.1\n",
    "n = int(input())\n",
    "divBy7 = [i for i in range(0, n) if (i % 7 == 0)]\n",
    "print(divBy7)\n",
    "\n",
    "def divChecker(n):\n",
    "    for i in range(n):\n",
    "        if i % 7 == 0:\n",
    "            value = True\n",
    "        else:\n",
    "            value = False\n",
    "        print(i, value)\n",
    "\n",
    "divChecker(n)"
   ]
  },
  {
   "cell_type": "code",
   "execution_count": 7,
   "id": "7c7af22d",
   "metadata": {},
   "outputs": [
    {
     "name": "stdout",
     "output_type": "stream",
     "text": [
      "Enter a string:New to Python or choosing between Python 2 and Python 3? Read Python 2 or Python 3.\n",
      "New : 1\n",
      "to : 1\n",
      "Python : 5\n",
      "or : 2\n",
      "choosing : 1\n",
      "between : 1\n",
      "2 : 2\n",
      "and : 1\n",
      "3? : 1\n",
      "Read : 1\n",
      "3. : 1\n"
     ]
    }
   ],
   "source": [
    "#Q.2\n",
    "string=input(\"Enter a string:\")\n",
    "string = string.split()\n",
    "string1=[]\n",
    "for i in string:\n",
    "    if i not in string1:\n",
    "        string1.append(i)\n",
    "for i in range(0, len(string1)):\n",
    "    print(string1[i],':', string.count(string1[i]))"
   ]
  },
  {
   "cell_type": "code",
   "execution_count": 1,
   "id": "c1daf21c",
   "metadata": {},
   "outputs": [
    {
     "name": "stdout",
     "output_type": "stream",
     "text": [
      "Male\n",
      "Female\n"
     ]
    }
   ],
   "source": [
    "#Q.3\n",
    "class person(object):\n",
    "    def getGender(self):\n",
    "        return \"unknown\"\n",
    "class Male(person):\n",
    "    def getGender(self):\n",
    "        return \"Male\"\n",
    "class Female(person):\n",
    "    def getGender(self):\n",
    "        return \"Female\"\n",
    "\n",
    "aMale = Male()\n",
    "aFemale = Female()\n",
    "print(aMale.getGender())\n",
    "print(aFemale.getGender())\n",
    "        "
   ]
  },
  {
   "cell_type": "code",
   "execution_count": 9,
   "id": "77c92389",
   "metadata": {},
   "outputs": [
    {
     "name": "stdout",
     "output_type": "stream",
     "text": [
      "['I Play Hockey', 'I Play Football', 'I Love Hockey', 'I Love Football', 'You Play Hockey', 'You Play Football', 'You Love Hockey', 'You Love Football']\n"
     ]
    }
   ],
   "source": [
    "#Q.4\n",
    "def generate_sentences(subjects, verbs, objects):\n",
    "    list=[]\n",
    "    for i in subjects:\n",
    "        for j in verbs:\n",
    "            for k in objects:\n",
    "                list.append(i+\" \"+j+\" \"+k)\n",
    "    return list\n",
    "subjects=[\"I\",\"You\"]\n",
    "verbs=[\"Play\",\"Love\"]\n",
    "objects=[\"Hockey\",\"Football\"]\n",
    "print(generate_sentences(subjects, verbs, objects))"
   ]
  },
  {
   "cell_type": "code",
   "execution_count": 20,
   "id": "a6ef5c2e",
   "metadata": {},
   "outputs": [
    {
     "name": "stdout",
     "output_type": "stream",
     "text": [
      "b'x\\x9c\\xf3H\\xcd\\xc9\\xc9W\\x08\\xcf/\\xcaIQT\\xf0 \\x8a\\x03\\x00\\xc5\\x8c\\x11U'\n",
      "b'Hello World! Hello World! Hello World! Hello World!'\n"
     ]
    }
   ],
   "source": [
    "#Q.5\n",
    "import zlib\n",
    "s=b'Hello World! Hello World! Hello World! Hello World!'\n",
    "t= zlib.compress(s)\n",
    "print(t)\n",
    "print(zlib.decompress(t))"
   ]
  },
  {
   "cell_type": "code",
   "execution_count": 6,
   "id": "bc5ede55",
   "metadata": {},
   "outputs": [
    {
     "name": "stdout",
     "output_type": "stream",
     "text": [
      "Element is present at index 2\n"
     ]
    }
   ],
   "source": [
    "#Q.6\n",
    "def binary_search(list, n):\n",
    "    low= 0\n",
    "    high = len(list)-1\n",
    "    mid = 0\n",
    "    \n",
    "    while low<=high:\n",
    "        mid = (low+high)//2\n",
    "        \n",
    "        if list[mid]< n:\n",
    "            low = mid+1\n",
    "        elif list[mid]>n:\n",
    "            high = mid-1\n",
    "        else:\n",
    "            return mid\n",
    "    return -1\n",
    "\n",
    "list = [1,3,2,6,6]\n",
    "n= 2\n",
    "result = binary_search(list, n)\n",
    "\n",
    "if result !=-1:\n",
    "    print(\"Element is present at index\", str(result))\n",
    "else:\n",
    "    print(\"Element is not present in list\")\n",
    "    "
   ]
  },
  {
   "cell_type": "code",
   "execution_count": null,
   "id": "5bf7fe5d",
   "metadata": {},
   "outputs": [],
   "source": []
  }
 ],
 "metadata": {
  "kernelspec": {
   "display_name": "Python 3 (ipykernel)",
   "language": "python",
   "name": "python3"
  },
  "language_info": {
   "codemirror_mode": {
    "name": "ipython",
    "version": 3
   },
   "file_extension": ".py",
   "mimetype": "text/x-python",
   "name": "python",
   "nbconvert_exporter": "python",
   "pygments_lexer": "ipython3",
   "version": "3.9.12"
  }
 },
 "nbformat": 4,
 "nbformat_minor": 5
}
