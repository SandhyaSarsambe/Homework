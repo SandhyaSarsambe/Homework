{
 "cells": [
  {
   "cell_type": "code",
   "execution_count": 1,
   "id": "9c62516b",
   "metadata": {},
   "outputs": [
    {
     "data": {
      "text/plain": [
       "43"
      ]
     },
     "execution_count": 1,
     "metadata": {},
     "output_type": "execute_result"
    }
   ],
   "source": [
    "#Q.1\n",
    "test1='This is a test of the emergency text system'\n",
    "outfile = open('test.txt', 'wt')\n",
    "outfile.write(test1)\n"
   ]
  },
  {
   "cell_type": "code",
   "execution_count": 2,
   "id": "19a6674c",
   "metadata": {},
   "outputs": [],
   "source": [
    "outfile.close()"
   ]
  },
  {
   "cell_type": "code",
   "execution_count": 3,
   "id": "ce3234d4",
   "metadata": {},
   "outputs": [],
   "source": [
    "#Q.2 \n",
    "with open('test.txt', 'rt') as infile:\n",
    "    test2= infile.read()"
   ]
  },
  {
   "cell_type": "code",
   "execution_count": 4,
   "id": "106f3ffb",
   "metadata": {},
   "outputs": [
    {
     "data": {
      "text/plain": [
       "True"
      ]
     },
     "execution_count": 4,
     "metadata": {},
     "output_type": "execute_result"
    }
   ],
   "source": [
    "test1 ==test2"
   ]
  },
  {
   "cell_type": "code",
   "execution_count": 5,
   "id": "df04a029",
   "metadata": {},
   "outputs": [],
   "source": [
    "#Q.3 \n",
    "text='''title,author,year\n",
    "The Weirdstone of Brisingamen,Alan Garner,1960\n",
    "Perdido Street Station,China Miéville,2000\n",
    "Thud!,Terry Pratchett,2005\n",
    "The Spellman Files,Lisa Lutz,2007\n",
    "Small Gods,Terry Pratchett,1992'''"
   ]
  },
  {
   "cell_type": "code",
   "execution_count": 6,
   "id": "1b18b02b",
   "metadata": {},
   "outputs": [],
   "source": [
    "with open('books.csv', 'wt') as outfile:\n",
    "    outfile.write(text)"
   ]
  },
  {
   "cell_type": "code",
   "execution_count": 7,
   "id": "dfdc51be",
   "metadata": {},
   "outputs": [],
   "source": [
    "#Q.4 \n",
    "import sqlite3\n",
    "db = sqlite3.connect('books.db')\n",
    "curs = db.cursor()\n"
   ]
  },
  {
   "cell_type": "code",
   "execution_count": 8,
   "id": "ac20e176",
   "metadata": {},
   "outputs": [
    {
     "data": {
      "text/plain": [
       "<sqlite3.Cursor at 0xf6c7b0aa40>"
      ]
     },
     "execution_count": 8,
     "metadata": {},
     "output_type": "execute_result"
    }
   ],
   "source": [
    "curs.execute('''create table book (title text, author text, year int)''')"
   ]
  },
  {
   "cell_type": "code",
   "execution_count": 9,
   "id": "eb20fcd3",
   "metadata": {},
   "outputs": [],
   "source": [
    "db.commit()"
   ]
  },
  {
   "cell_type": "code",
   "execution_count": 10,
   "id": "5deaaed6",
   "metadata": {},
   "outputs": [],
   "source": [
    "#Q.5\n",
    "import csv\n",
    "import sqlite3\n",
    "ins_str = 'insert into book values(?, ?, ?)'"
   ]
  },
  {
   "cell_type": "code",
   "execution_count": 13,
   "id": "ec97317d",
   "metadata": {},
   "outputs": [],
   "source": [
    "with open('books.csv', 'rt') as infile:\n",
    "    books = csv.DictReader(infile)\n",
    "    for book in books:\n",
    "        curs.execute(ins_str, (book['title'], book['author'], book['year']))"
   ]
  },
  {
   "cell_type": "code",
   "execution_count": 14,
   "id": "66463d60",
   "metadata": {},
   "outputs": [],
   "source": [
    "db.commit()"
   ]
  },
  {
   "cell_type": "code",
   "execution_count": 15,
   "id": "b881e056",
   "metadata": {},
   "outputs": [],
   "source": [
    "#Q.6\n",
    "sql = 'select title from book order by title asc'"
   ]
  },
  {
   "cell_type": "code",
   "execution_count": 16,
   "id": "016b9b92",
   "metadata": {},
   "outputs": [
    {
     "name": "stdout",
     "output_type": "stream",
     "text": [
      "('Perdido Street Station',)\n",
      "('Perdido Street Station',)\n",
      "('Small Gods',)\n",
      "('Small Gods',)\n",
      "('The Spellman Files',)\n",
      "('The Spellman Files',)\n",
      "('The Weirdstone of Brisingamen',)\n",
      "('The Weirdstone of Brisingamen',)\n",
      "('Thud!',)\n",
      "('Thud!',)\n"
     ]
    }
   ],
   "source": [
    "for row in db.execute(sql):\n",
    "    print(row)"
   ]
  },
  {
   "cell_type": "code",
   "execution_count": 17,
   "id": "7576c777",
   "metadata": {},
   "outputs": [
    {
     "name": "stdout",
     "output_type": "stream",
     "text": [
      "Perdido Street Station\n",
      "Perdido Street Station\n",
      "Small Gods\n",
      "Small Gods\n",
      "The Spellman Files\n",
      "The Spellman Files\n",
      "The Weirdstone of Brisingamen\n",
      "The Weirdstone of Brisingamen\n",
      "Thud!\n",
      "Thud!\n"
     ]
    }
   ],
   "source": [
    "for row in db.execute(sql):\n",
    "    print(row[0])"
   ]
  },
  {
   "cell_type": "code",
   "execution_count": 18,
   "id": "b151cb9e",
   "metadata": {},
   "outputs": [
    {
     "name": "stdout",
     "output_type": "stream",
     "text": [
      "('The Weirdstone of Brisingamen', 'Alan Garner', 1960)\n",
      "('The Weirdstone of Brisingamen', 'Alan Garner', 1960)\n",
      "('Small Gods', 'Terry Pratchett', 1992)\n",
      "('Small Gods', 'Terry Pratchett', 1992)\n",
      "('Perdido Street Station', 'China Miéville', 2000)\n",
      "('Perdido Street Station', 'China Miéville', 2000)\n",
      "('Thud!', 'Terry Pratchett', 2005)\n",
      "('Thud!', 'Terry Pratchett', 2005)\n",
      "('The Spellman Files', 'Lisa Lutz', 2007)\n",
      "('The Spellman Files', 'Lisa Lutz', 2007)\n"
     ]
    }
   ],
   "source": [
    "#Q.7\n",
    "for row in db.execute('select * from book order by year'):\n",
    "    print(row)"
   ]
  },
  {
   "cell_type": "code",
   "execution_count": 19,
   "id": "6b545faa",
   "metadata": {},
   "outputs": [
    {
     "name": "stdout",
     "output_type": "stream",
     "text": [
      "The Weirdstone of Brisingamen, Alan Garner, 1960\n",
      "The Weirdstone of Brisingamen, Alan Garner, 1960\n",
      "Small Gods, Terry Pratchett, 1992\n",
      "Small Gods, Terry Pratchett, 1992\n",
      "Perdido Street Station, China Miéville, 2000\n",
      "Perdido Street Station, China Miéville, 2000\n",
      "Thud!, Terry Pratchett, 2005\n",
      "Thud!, Terry Pratchett, 2005\n",
      "The Spellman Files, Lisa Lutz, 2007\n",
      "The Spellman Files, Lisa Lutz, 2007\n"
     ]
    }
   ],
   "source": [
    "for row in db.execute('select * from book order by year'):\n",
    "    print(*row, sep=', ')"
   ]
  },
  {
   "cell_type": "code",
   "execution_count": 20,
   "id": "f6127d73",
   "metadata": {},
   "outputs": [
    {
     "name": "stdout",
     "output_type": "stream",
     "text": [
      "('Perdido Street Station',)\n",
      "('Perdido Street Station',)\n",
      "('Small Gods',)\n",
      "('Small Gods',)\n",
      "('The Spellman Files',)\n",
      "('The Spellman Files',)\n",
      "('The Weirdstone of Brisingamen',)\n",
      "('The Weirdstone of Brisingamen',)\n",
      "('Thud!',)\n",
      "('Thud!',)\n"
     ]
    }
   ],
   "source": [
    "#Q.8\n",
    "import sqlalchemy\n",
    "conn = sqlalchemy.create_engine('sqlite:///books.db')\n",
    "sql = 'select title from book order by title asc'\n",
    "rows = conn.execute(sql)\n",
    "for row in rows:\n",
    "     print(row)"
   ]
  },
  {
   "cell_type": "code",
   "execution_count": 21,
   "id": "5892edcc",
   "metadata": {},
   "outputs": [
    {
     "name": "stdout",
     "output_type": "stream",
     "text": [
      "Collecting redis\n",
      "  Downloading redis-4.3.5-py3-none-any.whl (248 kB)\n",
      "Requirement already satisfied: packaging>=20.4 in c:\\users\\admin\\anaconda3\\lib\\site-packages (from redis) (21.3)\n",
      "Collecting async-timeout>=4.0.2\n",
      "  Downloading async_timeout-4.0.2-py3-none-any.whl (5.8 kB)\n",
      "Requirement already satisfied: pyparsing!=3.0.5,>=2.0.2 in c:\\users\\admin\\anaconda3\\lib\\site-packages (from packaging>=20.4->redis) (3.0.4)\n",
      "Installing collected packages: async-timeout, redis\n",
      "  Attempting uninstall: async-timeout\n",
      "    Found existing installation: async-timeout 4.0.1\n",
      "    Uninstalling async-timeout-4.0.1:\n",
      "      Successfully uninstalled async-timeout-4.0.1\n",
      "Successfully installed async-timeout-4.0.2 redis-4.3.5\n"
     ]
    }
   ],
   "source": [
    "#Q.9\n",
    "!pip install redis"
   ]
  }
 ],
 "metadata": {
  "kernelspec": {
   "display_name": "Python 3 (ipykernel)",
   "language": "python",
   "name": "python3"
  },
  "language_info": {
   "codemirror_mode": {
    "name": "ipython",
    "version": 3
   },
   "file_extension": ".py",
   "mimetype": "text/x-python",
   "name": "python",
   "nbconvert_exporter": "python",
   "pygments_lexer": "ipython3",
   "version": "3.9.12"
  }
 },
 "nbformat": 4,
 "nbformat_minor": 5
}
