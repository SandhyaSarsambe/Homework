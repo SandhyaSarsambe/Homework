{
 "cells": [
  {
   "cell_type": "code",
   "execution_count": 29,
   "id": "675ab8d6",
   "metadata": {},
   "outputs": [
    {
     "name": "stdout",
     "output_type": "stream",
     "text": [
      "Enter a no for checking of disarium no.:234\n",
      "The sum of digits = 75\n",
      "234 is Not a Disarium Number.\n"
     ]
    }
   ],
   "source": [
    "#Q.1 Checking of disarium no.\n",
    "number = int(input(\"Enter a no for checking of disarium no.:\"))\n",
    "length=len(str(number))\n",
    "num=number\n",
    "rem=0\n",
    "sum=0\n",
    "while(num>0):\n",
    "    rem=num%10\n",
    "    sum=sum +int(rem**length)\n",
    "    num = num//10\n",
    "    length = length-1\n",
    "print(\"The sum of digits =\",sum)\n",
    "if sum == number:\n",
    "    print(number, \"is a Disarium Number.\")\n",
    "else:\n",
    "    print(number, \"is Not a Disarium Number.\")"
   ]
  },
  {
   "cell_type": "code",
   "execution_count": 32,
   "id": "6c031868",
   "metadata": {},
   "outputs": [
    {
     "name": "stdout",
     "output_type": "stream",
     "text": [
      "Disarium numbers between 1 and 100 are\n",
      "1 2 3 4 5 6 7 8 9 89 "
     ]
    }
   ],
   "source": [
    "#Q.2 Disarium no.s in between range(1,100)\n",
    "def calculateLength(n):    \n",
    "    length = 0    \n",
    "    while(n != 0):    \n",
    "        length = length + 1   \n",
    "        n = n//10    \n",
    "    return length    \n",
    "def sumOfDigits(num):    \n",
    "    rem = sum = 0   \n",
    "    len = calculateLength(num)   \n",
    "        \n",
    "    while(num > 0):    \n",
    "        rem = num%10;    \n",
    "        sum = sum + (rem**len);    \n",
    "        num = num//10;    \n",
    "        len = len - 1;    \n",
    "    return sum;    \n",
    "      \n",
    "result = 0;        \n",
    "print(\"Disarium numbers between 1 and 100 are\");    \n",
    "for i in range(1, 101):    \n",
    "    result = sumOfDigits(i);    \n",
    "        \n",
    "    if(result == i):    \n",
    "        print(i, end=' ')    "
   ]
  },
  {
   "cell_type": "code",
   "execution_count": 14,
   "id": "21f5907b",
   "metadata": {},
   "outputs": [
    {
     "name": "stdout",
     "output_type": "stream",
     "text": [
      "Enter a no:176\n",
      "176 is a happy number.\n"
     ]
    }
   ],
   "source": [
    "#Q.3 Check whether no. is happy no. or not\n",
    "def happy_num(n):\n",
    "    digit=0\n",
    "    sum=0\n",
    "    while(n>0):\n",
    "        digit = n%10\n",
    "        sum = sum + (digit*digit)\n",
    "        n= n//10\n",
    "    return sum\n",
    "num = int(input(\"Enter a no:\"))\n",
    "result = num\n",
    "while(result != 1 and result !=4):\n",
    "    result = happy_num(result)\n",
    "if (result == 1):\n",
    "    print(num, \"is a happy number.\")\n",
    "else:\n",
    "    print(num,\"is not a happy number.\")"
   ]
  },
  {
   "cell_type": "code",
   "execution_count": 13,
   "id": "6d365e8c",
   "metadata": {},
   "outputs": [
    {
     "name": "stdout",
     "output_type": "stream",
     "text": [
      "1 7 10 13 19 23 28 31 32 44 49 68 70 79 82 86 91 94 97 100 "
     ]
    }
   ],
   "source": [
    "#Q.4 Happy no.s in range(1,100)\n",
    "def happy_num(n):\n",
    "    digit=0\n",
    "    sum=0\n",
    "    while(n>0):\n",
    "        digit = n%10\n",
    "        sum = sum + (digit*digit)\n",
    "        n= n//10\n",
    "    return sum\n",
    "for i in range(1, 101):\n",
    "    result =i\n",
    "    while(result != 1 and result !=4):\n",
    "        result = happy_num(result)\n",
    "    if (result == 1):\n",
    "        print(i, end= ' ')    "
   ]
  },
  {
   "cell_type": "code",
   "execution_count": 8,
   "id": "79f9f61a",
   "metadata": {},
   "outputs": [
    {
     "name": "stdout",
     "output_type": "stream",
     "text": [
      "134 is not a harshad number\n"
     ]
    }
   ],
   "source": [
    "#Q.5 Harshad number\n",
    "num = 134\n",
    "sum=0\n",
    "rem=0\n",
    "n=num\n",
    "while(num>0):\n",
    "    rem=num%10\n",
    "    sum=sum+rem\n",
    "    num=num//10\n",
    "if (n%sum == 0):\n",
    "    print(str(n)+ \" is a harshad number\")\n",
    "else:\n",
    "    print(str(n)+ \" is not a harshad number\")\n",
    "    "
   ]
  },
  {
   "cell_type": "code",
   "execution_count": 17,
   "id": "f29409e8",
   "metadata": {},
   "outputs": [
    {
     "name": "stdout",
     "output_type": "stream",
     "text": [
      "Pronic numbers between 1 and 100:\n",
      "2 6 12 20 30 42 56 72 90 "
     ]
    }
   ],
   "source": [
    "#Q.6 All pronic no.s between 1 and 100\n",
    "def pronic_num(num):\n",
    "    d = 0\n",
    "    for j in range(1, num+1):\n",
    "        if (j*(j+1) ==num):\n",
    "            d = 1\n",
    "            break\n",
    "    return d\n",
    "print(\"Pronic numbers between 1 and 100:\" )\n",
    "for i in range(1,101):\n",
    "    if (pronic_num(i)):\n",
    "        print(i, end=' ')\n",
    "            "
   ]
  },
  {
   "cell_type": "code",
   "execution_count": null,
   "id": "68b23638",
   "metadata": {},
   "outputs": [],
   "source": []
  }
 ],
 "metadata": {
  "kernelspec": {
   "display_name": "Python 3 (ipykernel)",
   "language": "python",
   "name": "python3"
  },
  "language_info": {
   "codemirror_mode": {
    "name": "ipython",
    "version": 3
   },
   "file_extension": ".py",
   "mimetype": "text/x-python",
   "name": "python",
   "nbconvert_exporter": "python",
   "pygments_lexer": "ipython3",
   "version": "3.9.12"
  }
 },
 "nbformat": 4,
 "nbformat_minor": 5
}
