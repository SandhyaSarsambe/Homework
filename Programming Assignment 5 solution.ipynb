{
 "cells": [
  {
   "cell_type": "code",
   "execution_count": 4,
   "id": "29b7a32b",
   "metadata": {},
   "outputs": [
    {
     "name": "stdout",
     "output_type": "stream",
     "text": [
      "The L.C.M. is 60\n"
     ]
    }
   ],
   "source": [
    "# Q.1 L.C.M. of a number\n",
    "\n",
    "def compute_lcm(x, y):\n",
    "\n",
    "   # choose the greater number\n",
    "   if x > y:\n",
    "       greater = x\n",
    "   else:\n",
    "       greater = y\n",
    "\n",
    "   while(True):\n",
    "       if((greater % x == 0) and (greater % y == 0)):\n",
    "           lcm = greater\n",
    "           break\n",
    "       greater += 1\n",
    "\n",
    "   return lcm\n",
    "\n",
    "num1 = 20\n",
    "num2 = 30\n",
    "\n",
    "print(\"The L.C.M. is\", compute_lcm(num1, num2))"
   ]
  },
  {
   "cell_type": "code",
   "execution_count": 6,
   "id": "c667d1dc",
   "metadata": {},
   "outputs": [
    {
     "name": "stdout",
     "output_type": "stream",
     "text": [
      "Enter a 1st no.:20\n",
      "Enter a 2nd no.30\n",
      "Hcf of 20 and 30 is 10\n"
     ]
    }
   ],
   "source": [
    "#Q.2 HCF of a no.\n",
    "num1 = int(input(\"Enter a 1st no.:\"))\n",
    "num2 = int(input(\"Enter a 2nd no.\"))\n",
    "\n",
    "for i in range(1, min(num1, num2)):\n",
    "    if num1 % i == 0 and num2 % i == 0:\n",
    "        hcf = i\n",
    "print(\"Hcf of\", num1, \"and\", num2, \"is\", hcf)"
   ]
  },
  {
   "cell_type": "code",
   "execution_count": 8,
   "id": "f90dda3c",
   "metadata": {},
   "outputs": [
    {
     "name": "stdout",
     "output_type": "stream",
     "text": [
      "0 1 1 1 1 "
     ]
    }
   ],
   "source": [
    "#Q.4 Conversion of decimal to binary, octal, hexadecimal\n",
    "def dec_to_binary(num):\n",
    "    if num>=1:\n",
    "        dec_to_binary(num//2)\n",
    "    print(num%2, end = ' ')\n",
    "\n",
    "dec_to_binary(15)"
   ]
  },
  {
   "cell_type": "code",
   "execution_count": 9,
   "id": "f4b82508",
   "metadata": {},
   "outputs": [
    {
     "name": "stdout",
     "output_type": "stream",
     "text": [
      "0 1 7 "
     ]
    }
   ],
   "source": [
    "def dec_to_octal(num):\n",
    "    if num>=1:\n",
    "        dec_to_octal(num//8)\n",
    "    print(num%8, end =' ')\n",
    "    \n",
    "dec_to_octal(15)"
   ]
  },
  {
   "cell_type": "code",
   "execution_count": 10,
   "id": "b1868bfc",
   "metadata": {},
   "outputs": [
    {
     "name": "stdout",
     "output_type": "stream",
     "text": [
      "The hexadecimal form of 69 is 45\n"
     ]
    }
   ],
   "source": [
    "conversion_table = {0: '0', 1: '1', 2: '2', 3: '3', 4: '4',\n",
    "                    5: '5', 6: '6', 7: '7',\n",
    "                    8: '8', 9: '9', 10: 'A', 11: 'B', 12: 'C',\n",
    "                    13: 'D', 14: 'E', 15: 'F'}\n",
    "  \n",
    "def decimalToHexadecimal(decimal):\n",
    "    hexadecimal = ''\n",
    "    while(decimal > 0):\n",
    "        remainder = decimal % 16\n",
    "        hexadecimal = conversion_table[remainder] + hexadecimal\n",
    "        decimal = decimal // 16\n",
    "  \n",
    "    return hexadecimal\n",
    "  \n",
    "  \n",
    "decimal_number = 69\n",
    "print(\"The hexadecimal form of\", decimal_number,\n",
    "      \"is\", decimalToHexadecimal(decimal_number))"
   ]
  },
  {
   "cell_type": "code",
   "execution_count": 6,
   "id": "1033ad1f",
   "metadata": {},
   "outputs": [
    {
     "name": "stdout",
     "output_type": "stream",
     "text": [
      "Enter a character:A\n",
      "The ASCII value of a A is: 65 "
     ]
    }
   ],
   "source": [
    "#Q.4 ASCII value of a character\n",
    "string = input(\"Enter a character:\")\n",
    "for i in string:\n",
    "    print(\"The ASCII value of a\", i, \"is:\", ord(i), end=' ')"
   ]
  },
  {
   "cell_type": "code",
   "execution_count": 4,
   "id": "ce4f0296",
   "metadata": {},
   "outputs": [
    {
     "name": "stdout",
     "output_type": "stream",
     "text": [
      "Enter your choice:add\n",
      "Enter a no.:12\n",
      "Enter a no.:15\n",
      "12.0 + 15.0 = 27.0\n",
      "Do you want to do next calculation: (yes/no)no\n"
     ]
    }
   ],
   "source": [
    "#Q.5. Simple calculator\n",
    "def add(x, y):\n",
    "    return x+y\n",
    "def subtract(x, y):\n",
    "    return x-y\n",
    "def multiplication(x, y):\n",
    "    return x*y\n",
    "def divide(x, y):\n",
    "    return x/y\n",
    "while True:\n",
    "    choice = input('Enter your choice:')\n",
    "    if choice in ('add', 'subtract', 'multiplication', 'divide') :\n",
    "            \n",
    "        num1 = float(input(\"Enter a no.:\"))\n",
    "        num2 = float(input(\"Enter a no.:\"))\n",
    "        if choice == 'add':\n",
    "            print(num1, '+', num2, '=', add(num1, num2))\n",
    "        elif choice == 'subtract':\n",
    "            print(num1, '-', num2, '=', subtract(num1, num2))\n",
    "        elif choice == 'multiplication':\n",
    "            print(num1, '*', num2, '=', multiplication(num1, num2))\n",
    "        elif choice == 'divide':\n",
    "            print(num1, '/', num2, '=', divide(num1, num2))\n",
    "        next_calculation = input(\"Do you want to do next calculation: (yes/no)\")\n",
    "        if next_calculation == 'no':\n",
    "            break\n",
    "        \n",
    "    else:\n",
    "        print('Invalid operation')\n",
    "                \n",
    "            "
   ]
  },
  {
   "cell_type": "code",
   "execution_count": null,
   "id": "45f830eb",
   "metadata": {},
   "outputs": [],
   "source": []
  },
  {
   "cell_type": "code",
   "execution_count": null,
   "id": "4dd84e3f",
   "metadata": {},
   "outputs": [],
   "source": []
  }
 ],
 "metadata": {
  "kernelspec": {
   "display_name": "Python 3 (ipykernel)",
   "language": "python",
   "name": "python3"
  },
  "language_info": {
   "codemirror_mode": {
    "name": "ipython",
    "version": 3
   },
   "file_extension": ".py",
   "mimetype": "text/x-python",
   "name": "python",
   "nbconvert_exporter": "python",
   "pygments_lexer": "ipython3",
   "version": "3.9.12"
  }
 },
 "nbformat": 4,
 "nbformat_minor": 5
}
