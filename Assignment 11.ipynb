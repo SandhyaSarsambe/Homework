{
 "cells": [
  {
   "cell_type": "code",
   "execution_count": 2,
   "id": "42896e28",
   "metadata": {},
   "outputs": [
    {
     "name": "stdout",
     "output_type": "stream",
     "text": [
      "Enter a value:-10\n"
     ]
    },
    {
     "ename": "AssertionError",
     "evalue": "",
     "output_type": "error",
     "traceback": [
      "\u001b[1;31m---------------------------------------------------------------------------\u001b[0m",
      "\u001b[1;31mAssertionError\u001b[0m                            Traceback (most recent call last)",
      "Input \u001b[1;32mIn [2]\u001b[0m, in \u001b[0;36m<cell line: 3>\u001b[1;34m()\u001b[0m\n\u001b[0;32m      1\u001b[0m \u001b[38;5;66;03m#Q.1\u001b[39;00m\n\u001b[0;32m      2\u001b[0m x\u001b[38;5;241m=\u001b[39m\u001b[38;5;28mint\u001b[39m(\u001b[38;5;28minput\u001b[39m(\u001b[38;5;124m\"\u001b[39m\u001b[38;5;124mEnter a value:\u001b[39m\u001b[38;5;124m\"\u001b[39m))\n\u001b[1;32m----> 3\u001b[0m \u001b[38;5;28;01massert\u001b[39;00m x\u001b[38;5;241m>\u001b[39m\u001b[38;5;241m0\u001b[39m\n\u001b[0;32m      4\u001b[0m \u001b[38;5;28mprint\u001b[39m(\u001b[38;5;124m\"\u001b[39m\u001b[38;5;124mx is positive number\u001b[39m\u001b[38;5;124m\"\u001b[39m)\n",
      "\u001b[1;31mAssertionError\u001b[0m: "
     ]
    }
   ],
   "source": [
    "#Q.1\n",
    "x=int(input(\"Enter a value:\"))\n",
    "assert x>0\n",
    "print(\"x is positive number\")"
   ]
  },
  {
   "cell_type": "code",
   "execution_count": 5,
   "id": "93f41d61",
   "metadata": {},
   "outputs": [],
   "source": [
    "#Q.2\n",
    "eggs = 'hello'\n",
    "bacon = 'goodbye'\n",
    "assert eggs.lower() != bacon.lower(), 'The eggs and bacon variables are same' \n",
    "assert eggs.upper() != bacon.upper(), 'The eggs and bacon variables are same'"
   ]
  },
  {
   "cell_type": "code",
   "execution_count": 7,
   "id": "62919448",
   "metadata": {},
   "outputs": [],
   "source": [
    "#Q.3\n",
    "#assert True, Always triggers an AssertionError"
   ]
  },
  {
   "cell_type": "code",
   "execution_count": 8,
   "id": "cfcfc37b",
   "metadata": {},
   "outputs": [],
   "source": [
    "#Q.4\n",
    "#Two logging lines\n",
    "import logging\n",
    "logging.basicConfig(level = logging.DEBUG, format = '%(asctime)s - %(levelname)s - %(message)s ' )"
   ]
  },
  {
   "cell_type": "code",
   "execution_count": 9,
   "id": "a6046b14",
   "metadata": {},
   "outputs": [],
   "source": [
    "#Q.5\n",
    "import logging\n",
    "logging.basicConfig(filename = 'programLog.txt',level = logging.DEBUG, format = '%(asctime)s - %(levelname)s - %(message)s ' )"
   ]
  },
  {
   "cell_type": "raw",
   "id": "b9680dab",
   "metadata": {},
   "source": [
    "#Q.6\n",
    "Five levels of logging: DEBUG, INFO, WARNING, ERROR, CRITICAL"
   ]
  },
  {
   "cell_type": "code",
   "execution_count": 10,
   "id": "c8bf7d7a",
   "metadata": {},
   "outputs": [],
   "source": [
    "#Q.7\n",
    "logging.disable(logging.CRITICAL)"
   ]
  },
  {
   "cell_type": "raw",
   "id": "a5c110fe",
   "metadata": {},
   "source": [
    "#Q.8\n",
    "Because with print, when your program is ready for production, you still have to \"remove\" or comment it out. Verses logging message, you can toggle\n",
    "the setting on/off or write to a file (send to a server). It is more flexible especially with logging level 1-5."
   ]
  },
  {
   "cell_type": "raw",
   "id": "229c4285",
   "metadata": {},
   "source": [
    "#Q.9\n",
    "Step - one line execution at a time\n",
    "Over - excecute the next line of code, but if it is a program, it will\n",
    "       complete the entire function call.\n",
    "out  - execute the lines of code unti it returns from the current function.\n",
    "        (out is useful when you stepped into a function call)."
   ]
  },
  {
   "cell_type": "raw",
   "id": "2a95096f",
   "metadata": {},
   "source": [
    "#Q.10\n",
    "The debugger will stop at the end of the program or till that point where we have applied breakpoint."
   ]
  },
  {
   "cell_type": "raw",
   "id": "338529d1",
   "metadata": {},
   "source": [
    "#Q.11\n",
    "A breakpoint is the setting on line of code that causes debugger to pause when the program execution reaches the line."
   ]
  }
 ],
 "metadata": {
  "kernelspec": {
   "display_name": "Python 3 (ipykernel)",
   "language": "python",
   "name": "python3"
  },
  "language_info": {
   "codemirror_mode": {
    "name": "ipython",
    "version": 3
   },
   "file_extension": ".py",
   "mimetype": "text/x-python",
   "name": "python",
   "nbconvert_exporter": "python",
   "pygments_lexer": "ipython3",
   "version": "3.9.12"
  }
 },
 "nbformat": 4,
 "nbformat_minor": 5
}
