{
 "cells": [
  {
   "cell_type": "code",
   "execution_count": 1,
   "id": "c6bc24c3",
   "metadata": {},
   "outputs": [
    {
     "name": "stdout",
     "output_type": "stream",
     "text": [
      "unique values from dictionary values are:{1, 2, 33, 6, 8, 9, 11, 22, 56, 89}\n"
     ]
    }
   ],
   "source": [
    "#Q.1 Extract unique values of dict\n",
    "dic={'a':[1,22,11,2,6],\n",
    "    'b': [1,2,33,56,2],\n",
    "    'c' : [1,89,9,8,6]}\n",
    "lstset=set([ele for val in dic.values() for ele in val])\n",
    "print(\"unique values from dictionary values are:{}\".format(lstset))"
   ]
  },
  {
   "cell_type": "code",
   "execution_count": 2,
   "id": "2ed52d69",
   "metadata": {},
   "outputs": [
    {
     "name": "stdout",
     "output_type": "stream",
     "text": [
      "Sum of dictionary items is:100\n"
     ]
    }
   ],
   "source": [
    "#Q.2 Sum of all items\n",
    "dict1={'a':11,\n",
    "      'b':22,\n",
    "      'c':67}\n",
    "sum=0\n",
    "for i in dict1.values():\n",
    "    sum=sum+i\n",
    "print(\"Sum of dictionary items is:{}\".format(sum))"
   ]
  },
  {
   "cell_type": "code",
   "execution_count": 3,
   "id": "8e6677a4",
   "metadata": {},
   "outputs": [
    {
     "name": "stdout",
     "output_type": "stream",
     "text": [
      "dict a: {'x': 1, 'y': 2}\n",
      "dict b: {'y': 3, 'z': 5}\n",
      "Updated dict: {'x': 1, 'y': 3, 'z': 5}\n"
     ]
    }
   ],
   "source": [
    "#Q.3 Merging of two dictionaries\n",
    "a={'x':1, 'y':2}\n",
    "b={'y':3, 'z':5}\n",
    "c=a.copy()\n",
    "c.update(b)\n",
    "print(\"dict a:\",a)\n",
    "print(\"dict b:\",b)\n",
    "print(\"Updated dict:\",c)"
   ]
  },
  {
   "cell_type": "code",
   "execution_count": 4,
   "id": "f6047cc0",
   "metadata": {},
   "outputs": [
    {
     "name": "stdout",
     "output_type": "stream",
     "text": [
      "The original dictionary is : {'month': [1, 2, 3], 'name': ['Jan', 'Feb', 'March']}\n",
      "Flattened dictionary : {1: 'Jan', 2: 'Feb', 3: 'March'}\n"
     ]
    }
   ],
   "source": [
    "#Q.4 Converting key values list into flat dictionary\n",
    "test_dict = {'month' : [1, 2, 3],\n",
    "             'name' : ['Jan', 'Feb', 'March']}\n",
    "\n",
    "print(\"The original dictionary is : \" + str(test_dict))\n",
    "  \n",
    "res = dict(zip(test_dict['month'], test_dict['name']))\n",
    "  \n",
    "print(\"Flattened dictionary : \" + str(res)) "
   ]
  },
  {
   "cell_type": "code",
   "execution_count": 5,
   "id": "b160d583",
   "metadata": {},
   "outputs": [
    {
     "name": "stdout",
     "output_type": "stream",
     "text": [
      "Ordered Dictionary after insertion : OrderedDict([('Jan', '1'), ('Feb', '2'), ('Mar', '3')])\n"
     ]
    }
   ],
   "source": [
    "#Q.5\n",
    "from collections import OrderedDict\n",
    "  \n",
    "iniordered_dict = OrderedDict([('Feb', '2'), ('Mar', '3')])\n",
    "  \n",
    "iniordered_dict.update({'Jan':'1'})\n",
    "iniordered_dict.move_to_end('Jan', last = False)\n",
    "  \n",
    "print (\"Ordered Dictionary after insertion : \"+str(iniordered_dict))"
   ]
  },
  {
   "cell_type": "code",
   "execution_count": 6,
   "id": "66a70fb0",
   "metadata": {},
   "outputs": [
    {
     "name": "stdout",
     "output_type": "stream",
     "text": [
      "enter string : sandhya\n",
      "Enter Pattern : s\n",
      "OrderedDict([('s', None), ('a', None), ('n', None), ('d', None), ('h', None), ('y', None)])\n",
      "Pattern matched\n"
     ]
    }
   ],
   "source": [
    "#Q.6 order of character in string\n",
    "from collections import OrderedDict \n",
    "  \n",
    "def checkOrderofString(str, pattern): \n",
    "      \n",
    "   \n",
    "    dict = OrderedDict.fromkeys(str) \n",
    "    print(dict)   \n",
    "    ptrlen = 0\n",
    "    for key,value in dict.items(): \n",
    "        \n",
    "        if (key == pattern[ptrlen]): \n",
    "            ptrlen = ptrlen + 1\n",
    "          \n",
    "       \n",
    "        if (ptrlen == (len(pattern))):            \n",
    "            return 'true'\n",
    "  \n",
    "    \n",
    "    return 'false'\n",
    "  \n",
    "\n",
    "string = input(\"enter string : \")\n",
    "pattern = input(\"Enter Pattern : \")\n",
    "if checkOrderofString(string,pattern):\n",
    "    print(\"Pattern matched\")\n",
    "else:\n",
    "    print(\"Pattern not matched\")\n"
   ]
  },
  {
   "cell_type": "code",
   "execution_count": 9,
   "id": "7edd736b",
   "metadata": {},
   "outputs": [
    {
     "name": "stdout",
     "output_type": "stream",
     "text": [
      "[1, 3, 5, 7]\n",
      "[(1, 2), (3, 4), (5, 6), (7, 8)]\n"
     ]
    }
   ],
   "source": [
    "#Q.7\n",
    "a={1:2, 3:4, 7:8, 5:6}\n",
    "print(sorted(a.keys()))\n",
    "print(sorted(a.items()))"
   ]
  },
  {
   "cell_type": "code",
   "execution_count": null,
   "id": "9349d1a4",
   "metadata": {},
   "outputs": [],
   "source": []
  }
 ],
 "metadata": {
  "kernelspec": {
   "display_name": "Python 3 (ipykernel)",
   "language": "python",
   "name": "python3"
  },
  "language_info": {
   "codemirror_mode": {
    "name": "ipython",
    "version": 3
   },
   "file_extension": ".py",
   "mimetype": "text/x-python",
   "name": "python",
   "nbconvert_exporter": "python",
   "pygments_lexer": "ipython3",
   "version": "3.9.12"
  }
 },
 "nbformat": 4,
 "nbformat_minor": 5
}
