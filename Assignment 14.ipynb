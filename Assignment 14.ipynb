{
 "cells": [
  {
   "cell_type": "raw",
   "id": "870a52c5",
   "metadata": {},
   "source": [
    "#Q.1\n",
    "An RGBA value is an tuple set of 4 integers, each ranging from 0 to 255. The four integers correspond to the colors Red, Green, Blue and Alpha colors.\n"
   ]
  },
  {
   "cell_type": "raw",
   "id": "0fc7e7a3",
   "metadata": {},
   "source": [
    "#Q.2\n",
    "A function call to ImageColor.getcolor('CornflowerBlue', 'RGBA') will return (100, 149, 237, 255), the RGBA value for that color."
   ]
  },
  {
   "cell_type": "raw",
   "id": "bae4d581",
   "metadata": {},
   "source": [
    "#Q.3\n",
    "A box tuple value is a four integers :A left-edge x-cordinate, top-edge y-cordinate,width and height respectively."
   ]
  },
  {
   "cell_type": "raw",
   "id": "f5ffb3e1",
   "metadata": {},
   "source": [
    "#Q.4\n",
    "imageObj.size is a tuple of two integers, the height and the width."
   ]
  },
  {
   "cell_type": "raw",
   "id": "edcab629",
   "metadata": {},
   "source": [
    "#Q.5\n",
    "imageObj.crop((0,50,50,50)). Here we are passing box tuple not the four integers tuple."
   ]
  },
  {
   "cell_type": "raw",
   "id": "b7f70f7d",
   "metadata": {},
   "source": [
    "#Q.6\n",
    "Call the imageObj.save('new_filename.png') method of image object."
   ]
  },
  {
   "cell_type": "raw",
   "id": "7dbf29ce",
   "metadata": {},
   "source": [
    "#Q.7\n",
    "The ImageDraw module contains code to draw on images."
   ]
  },
  {
   "cell_type": "raw",
   "id": "68d68c64",
   "metadata": {},
   "source": [
    "#Q.8\n",
    "ImageDraw objects have shape-drawing methods such as point(), line(), or rectangle(). They are returned by passing the Image object to the ImageDraw.Draw() function."
   ]
  }
 ],
 "metadata": {
  "kernelspec": {
   "display_name": "Python 3 (ipykernel)",
   "language": "python",
   "name": "python3"
  },
  "language_info": {
   "codemirror_mode": {
    "name": "ipython",
    "version": 3
   },
   "file_extension": ".py",
   "mimetype": "text/x-python",
   "name": "python",
   "nbconvert_exporter": "python",
   "pygments_lexer": "ipython3",
   "version": "3.9.12"
  }
 },
 "nbformat": 4,
 "nbformat_minor": 5
}
