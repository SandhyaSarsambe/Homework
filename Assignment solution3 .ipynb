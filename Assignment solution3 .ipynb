{
 "cells": [
  {
   "cell_type": "raw",
   "id": "16d36548",
   "metadata": {},
   "source": [
    "#Q.1 Advantage of having function\n",
    "Functions reduces the need of duplicate code."
   ]
  },
  {
   "cell_type": "raw",
   "id": "795bc493",
   "metadata": {},
   "source": [
    "#Q.2 \n",
    "When the function is called at that time code in program will run."
   ]
  },
  {
   "cell_type": "raw",
   "id": "96f6e6bb",
   "metadata": {},
   "source": [
    "#Q.3\n",
    "The def keyword creates function."
   ]
  },
  {
   "cell_type": "raw",
   "id": "319431ca",
   "metadata": {},
   "source": [
    "#Q.4\n",
    "A function consist of def and the code in def\n",
    "While a function call is moves the program execution into the function, and the function call evaluates to the function's return value."
   ]
  },
  {
   "cell_type": "raw",
   "id": "1c20c8df",
   "metadata": {},
   "source": [
    "#Q.5\n",
    "There is only one global scope in python and local scope is created when a function called."
   ]
  },
  {
   "cell_type": "raw",
   "id": "7fe88ab9",
   "metadata": {},
   "source": [
    "#Q.6\n",
    "When a function returns, the local scope is destroyed, and all the variables in it are forgotten."
   ]
  },
  {
   "cell_type": "raw",
   "id": "7dad4da6",
   "metadata": {},
   "source": [
    "#Q.7\n",
    "A return value is the value that a function call evaluates. Return value can be written in the expression."
   ]
  },
  {
   "cell_type": "raw",
   "id": "15437060",
   "metadata": {},
   "source": [
    "#Q.8\n",
    "If a function does not have a return statement, it's return value is none."
   ]
  },
  {
   "cell_type": "raw",
   "id": "880715f5",
   "metadata": {},
   "source": [
    "#Q.9\n",
    "A global statement will force a variable in a function to refer to the global variable."
   ]
  },
  {
   "cell_type": "raw",
   "id": "ce18e787",
   "metadata": {},
   "source": [
    "#Q.10\n",
    "The data type of none is NoneType."
   ]
  },
  {
   "cell_type": "raw",
   "id": "143def55",
   "metadata": {},
   "source": [
    "#Q.11\n",
    "Import sentence imports this areallyourpetsnamederic module."
   ]
  },
  {
   "cell_type": "raw",
   "id": "a8f955e9",
   "metadata": {},
   "source": [
    "#Q.12\n",
    "We will call it as spam.bacon()"
   ]
  },
  {
   "cell_type": "raw",
   "id": "767ef3d9",
   "metadata": {},
   "source": [
    "#Q.13\n",
    "We will write in try statement to save it from crashing."
   ]
  },
  {
   "cell_type": "raw",
   "id": "8216ce5d",
   "metadata": {},
   "source": [
    "#Q.14\n",
    "The code that could cause an error goes in the try clause.\n",
    "The code that executes if an error happens goes in the except clause."
   ]
  }
 ],
 "metadata": {
  "kernelspec": {
   "display_name": "Python 3 (ipykernel)",
   "language": "python",
   "name": "python3"
  },
  "language_info": {
   "codemirror_mode": {
    "name": "ipython",
    "version": 3
   },
   "file_extension": ".py",
   "mimetype": "text/x-python",
   "name": "python",
   "nbconvert_exporter": "python",
   "pygments_lexer": "ipython3",
   "version": "3.9.12"
  }
 },
 "nbformat": 4,
 "nbformat_minor": 5
}
