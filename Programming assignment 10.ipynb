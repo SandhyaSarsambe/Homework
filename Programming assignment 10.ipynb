{
 "cells": [
  {
   "cell_type": "code",
   "execution_count": 6,
   "id": "5d6b37d9",
   "metadata": {},
   "outputs": [
    {
     "name": "stdout",
     "output_type": "stream",
     "text": [
      "15\n"
     ]
    }
   ],
   "source": [
    "#Q.1\n",
    "list1=[1,2,3,4,5]\n",
    "sum = 0\n",
    "for i in range(0, len(list1)):\n",
    "    sum = sum+list1[i]\n",
    "print(sum)"
   ]
  },
  {
   "cell_type": "code",
   "execution_count": 7,
   "id": "1cc14e03",
   "metadata": {},
   "outputs": [
    {
     "name": "stdout",
     "output_type": "stream",
     "text": [
      "120\n"
     ]
    }
   ],
   "source": [
    "#Q.2\n",
    "list1=[1,2,3,4,5]\n",
    "prod = 1\n",
    "for i in range(0, len(list1)):\n",
    "    prod=prod*list1[i]\n",
    "print(prod)"
   ]
  },
  {
   "cell_type": "code",
   "execution_count": 9,
   "id": "ac2dbc83",
   "metadata": {},
   "outputs": [
    {
     "data": {
      "text/plain": [
       "1"
      ]
     },
     "execution_count": 9,
     "metadata": {},
     "output_type": "execute_result"
    }
   ],
   "source": [
    "#Q.3\n",
    "list=[1,2,3,4,55,99]\n",
    "min(list)"
   ]
  },
  {
   "cell_type": "code",
   "execution_count": 10,
   "id": "1dc6ee37",
   "metadata": {},
   "outputs": [
    {
     "data": {
      "text/plain": [
       "64"
      ]
     },
     "execution_count": 10,
     "metadata": {},
     "output_type": "execute_result"
    }
   ],
   "source": [
    "#Q.4\n",
    "list=[7,2,3,4,55,64,32]\n",
    "max(list)"
   ]
  },
  {
   "cell_type": "code",
   "execution_count": 11,
   "id": "5ccf75a5",
   "metadata": {},
   "outputs": [],
   "source": [
    "#Q.5\n",
    "list=[2,3,5,77,4,6,32]\n",
    "list.sort()"
   ]
  },
  {
   "cell_type": "code",
   "execution_count": 13,
   "id": "efa33043",
   "metadata": {},
   "outputs": [
    {
     "data": {
      "text/plain": [
       "32"
      ]
     },
     "execution_count": 13,
     "metadata": {},
     "output_type": "execute_result"
    }
   ],
   "source": [
    "list[-2]"
   ]
  },
  {
   "cell_type": "code",
   "execution_count": 15,
   "id": "0cd118df",
   "metadata": {},
   "outputs": [
    {
     "name": "stdout",
     "output_type": "stream",
     "text": [
      "[89, 100, 234, 2378]\n"
     ]
    }
   ],
   "source": [
    "#Q.6\n",
    "list=[2,44,5,66,89,100,234,2378]\n",
    "N=4\n",
    "list.sort()\n",
    "print(list[-N:])"
   ]
  },
  {
   "cell_type": "code",
   "execution_count": 17,
   "id": "5115461c",
   "metadata": {},
   "outputs": [
    {
     "name": "stdout",
     "output_type": "stream",
     "text": [
      "[0, 2, 4, 6, 8, 10]\n"
     ]
    }
   ],
   "source": [
    "#Q.7\n",
    "l=[i for i in range(0,11) if i%2==0]\n",
    "print(l)"
   ]
  },
  {
   "cell_type": "code",
   "execution_count": 18,
   "id": "79bd6047",
   "metadata": {},
   "outputs": [
    {
     "name": "stdout",
     "output_type": "stream",
     "text": [
      "[1, 3, 5, 7, 9]\n"
     ]
    }
   ],
   "source": [
    "#Q.8\n",
    "l=[i for i in range(0,11) if i%2!=0]\n",
    "print(l)"
   ]
  },
  {
   "cell_type": "code",
   "execution_count": 23,
   "id": "31367a70",
   "metadata": {},
   "outputs": [
    {
     "name": "stdout",
     "output_type": "stream",
     "text": [
      "[1, 2, 3, 8, 8, 4]\n"
     ]
    }
   ],
   "source": [
    "#Q.9\n",
    "l=[1,2,3,[],8,[],8,[],4]\n",
    "result=[i for i in l if i!=[]]\n",
    "print(result)"
   ]
  },
  {
   "cell_type": "code",
   "execution_count": 28,
   "id": "1bea05de",
   "metadata": {},
   "outputs": [
    {
     "name": "stdout",
     "output_type": "stream",
     "text": [
      "[1, 2, 33, 45, 65, 322, 89]\n",
      "[1, 2, 33, 45, 65, 322, 89]\n"
     ]
    }
   ],
   "source": [
    "#Q.10\n",
    "def copy(list1):\n",
    "    list1_copy=list1[:]\n",
    "    return list1_copy\n",
    "list1=[1,2,33,45,65,322,89]\n",
    "list2=copy(list1)\n",
    "print(list1)\n",
    "print(list2)\n",
    "    "
   ]
  },
  {
   "cell_type": "code",
   "execution_count": 29,
   "id": "52a8e59b",
   "metadata": {},
   "outputs": [
    {
     "data": {
      "text/plain": [
       "3"
      ]
     },
     "execution_count": 29,
     "metadata": {},
     "output_type": "execute_result"
    }
   ],
   "source": [
    "#Q.11\n",
    "l=[1,2,33,4,2,4,5,2]\n",
    "l.count(2)"
   ]
  },
  {
   "cell_type": "code",
   "execution_count": null,
   "id": "a4cc2316",
   "metadata": {},
   "outputs": [],
   "source": []
  }
 ],
 "metadata": {
  "kernelspec": {
   "display_name": "Python 3 (ipykernel)",
   "language": "python",
   "name": "python3"
  },
  "language_info": {
   "codemirror_mode": {
    "name": "ipython",
    "version": 3
   },
   "file_extension": ".py",
   "mimetype": "text/x-python",
   "name": "python",
   "nbconvert_exporter": "python",
   "pygments_lexer": "ipython3",
   "version": "3.9.12"
  }
 },
 "nbformat": 4,
 "nbformat_minor": 5
}
