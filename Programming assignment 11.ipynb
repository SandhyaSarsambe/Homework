{
 "cells": [
  {
   "cell_type": "code",
   "execution_count": 3,
   "id": "b4533be4",
   "metadata": {},
   "outputs": [
    {
     "name": "stdout",
     "output_type": "stream",
     "text": [
      "['Python', 'enjoying', 'python', 'while', 'studying.']\n"
     ]
    }
   ],
   "source": [
    "#Q.1\n",
    "def string_k(k, str):\n",
    "    string=[]\n",
    "    text=str.split(' ')\n",
    "    for x in text:\n",
    "        if len(x)>k:\n",
    "            string.append(x)\n",
    "    return string\n",
    "\n",
    "k=4\n",
    "str=\"I love Python and I am enjoying python while studying.\"\n",
    "print(string_k(k, str))\n",
    "    \n",
    "    "
   ]
  },
  {
   "cell_type": "code",
   "execution_count": 6,
   "id": "4656f308",
   "metadata": {},
   "outputs": [
    {
     "name": "stdout",
     "output_type": "stream",
     "text": [
      "The new string after removal of 4th element is I lve Python.\n"
     ]
    }
   ],
   "source": [
    "#Q.2\n",
    "str=\"I love Python.\"\n",
    "new_str = str[:3]+str[4:]\n",
    "print(\"The new string after removal of 4th element is\", new_str)"
   ]
  },
  {
   "cell_type": "code",
   "execution_count": 10,
   "id": "f60fd68a",
   "metadata": {},
   "outputs": [
    {
     "name": "stdout",
     "output_type": "stream",
     "text": [
      "iNeuron_is_the_best_institute_for_coaching.\n"
     ]
    }
   ],
   "source": [
    "#Q.3\n",
    "str=\"iNeuron is the best institute for coaching.\"\n",
    "new_str1 = str.split(\" \")\n",
    "final_str='_'.join(new_str1)\n",
    "print(final_str)"
   ]
  },
  {
   "cell_type": "code",
   "execution_count": 11,
   "id": "ccdfde0e",
   "metadata": {},
   "outputs": [
    {
     "name": "stdout",
     "output_type": "stream",
     "text": [
      "The given string is binary string.\n"
     ]
    }
   ],
   "source": [
    "#Q.4\n",
    "string='010110011'\n",
    "b={'0','1'}\n",
    "t=set(string)\n",
    "if b==t or t=={'0'} or t=={'1'}:\n",
    "    print(\"The given string is binary string.\")\n",
    "else:\n",
    "    print(\"The given string is not binary string.\")"
   ]
  },
  {
   "cell_type": "code",
   "execution_count": 23,
   "id": "e799908a",
   "metadata": {},
   "outputs": [
    {
     "name": "stdout",
     "output_type": "stream",
     "text": [
      " world everyone\n"
     ]
    }
   ],
   "source": [
    "#Q.5\n",
    "def uncommon_words(s1, s2):\n",
    "    list_s1=s1.split()\n",
    "    list_s2=s2.split()\n",
    "    uc=''\n",
    "    for i in list_s1:\n",
    "        if i not in list_s2:\n",
    "            uc=uc+' '+i\n",
    "    for j in list_s2:\n",
    "        if j not in list_s1:\n",
    "            uc=uc+' '+j\n",
    "    return uc\n",
    "str1=\"Hello world\"\n",
    "str2=\"Hello everyone\"\n",
    "print(uncommon_words(str1, str2))"
   ]
  },
  {
   "cell_type": "code",
   "execution_count": 25,
   "id": "86c37ebf",
   "metadata": {},
   "outputs": [
    {
     "name": "stdout",
     "output_type": "stream",
     "text": [
      "l o\n"
     ]
    }
   ],
   "source": [
    "#Q.6\n",
    "def find_dup_char(input):\n",
    "    x=[]\n",
    "    for i in input:\n",
    "        if i not in x and input.count(i)>1:\n",
    "            x.append(i)\n",
    "    print(\" \".join(x))\n",
    "if __name__ == \"__main__\":\n",
    "    input = 'Hello world'\n",
    "    find_dup_char(input)"
   ]
  },
  {
   "cell_type": "code",
   "execution_count": 27,
   "id": "25082530",
   "metadata": {},
   "outputs": [
    {
     "name": "stdout",
     "output_type": "stream",
     "text": [
      "string is not accepted\n"
     ]
    }
   ],
   "source": [
    "#Q.7\n",
    "n=\"H&e%%l@lo: $w^orld~\"\n",
    "n.split()\n",
    "c=0\n",
    "s='[@_!#$%^&*()<>?/\\|}{~:]' \n",
    "for i in range(len(n)):\n",
    "    if n[i] in s:\n",
    "      c+=1      \n",
    "if c:\n",
    "    print(\"string is not accepted\")\n",
    "else:\n",
    "    print(\"string accepted\")"
   ]
  },
  {
   "cell_type": "code",
   "execution_count": null,
   "id": "7c0a2ed7",
   "metadata": {},
   "outputs": [],
   "source": []
  }
 ],
 "metadata": {
  "kernelspec": {
   "display_name": "Python 3 (ipykernel)",
   "language": "python",
   "name": "python3"
  },
  "language_info": {
   "codemirror_mode": {
    "name": "ipython",
    "version": 3
   },
   "file_extension": ".py",
   "mimetype": "text/x-python",
   "name": "python",
   "nbconvert_exporter": "python",
   "pygments_lexer": "ipython3",
   "version": "3.9.12"
  }
 },
 "nbformat": 4,
 "nbformat_minor": 5
}
