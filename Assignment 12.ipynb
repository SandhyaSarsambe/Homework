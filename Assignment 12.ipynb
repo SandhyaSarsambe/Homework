{
 "cells": [
  {
   "cell_type": "raw",
   "id": "e6788bdf",
   "metadata": {},
   "source": [
    "Q.1\n",
    "Read-binary('rb') mode used to read the pdf file and write-binary(wb) mode used to write the pdf file."
   ]
  },
  {
   "cell_type": "raw",
   "id": "3a7a45c7",
   "metadata": {},
   "source": [
    "Q.2\n",
    "Calling getPage(4) object for page 5, since first page named is page 0."
   ]
  },
  {
   "cell_type": "raw",
   "id": "9a90514d",
   "metadata": {},
   "source": [
    "Q.3\n",
    "The numPages variable stores the number of pages in pdf format.\n"
   ]
  },
  {
   "cell_type": "raw",
   "id": "f3b6f089",
   "metadata": {},
   "source": [
    "Q.4\n",
    "Call decrypt('swordfish')."
   ]
  },
  {
   "cell_type": "raw",
   "id": "795dac95",
   "metadata": {},
   "source": [
    "Q.5\n",
    "The rotateclockwise() and rotatecounterclockwise(). The degrees are entered as an integer argument."
   ]
  },
  {
   "cell_type": "raw",
   "id": "d9235258",
   "metadata": {},
   "source": [
    "Q.6\n",
    "A document contains multiple paragraphs. A paragraph begins on a new line and contains multiple runs. Runs are contiguous groups of characters within a paragraph."
   ]
  },
  {
   "cell_type": "raw",
   "id": "8b18bdf7",
   "metadata": {},
   "source": [
    "Q.7\n",
    "Use doc.paragraphs."
   ]
  },
  {
   "cell_type": "raw",
   "id": "9f58e824",
   "metadata": {},
   "source": [
    "Q.8\n",
    "A run object has these variables(not paragraphs). "
   ]
  },
  {
   "cell_type": "raw",
   "id": "b689296b",
   "metadata": {},
   "source": [
    "Q.9\n",
    "True always makes the Run object bolded and False makes it always not bolded, no matter what the style’s bold setting is. None will make the Run object just use the style’s bold setting."
   ]
  },
  {
   "cell_type": "raw",
   "id": "222ed9a8",
   "metadata": {},
   "source": [
    "Q.10\n",
    "Call the docx.Document() function."
   ]
  },
  {
   "cell_type": "raw",
   "id": "f1278660",
   "metadata": {},
   "source": [
    "Q.11\n",
    "doc.add_paragraph(\"Hello there!\")"
   ]
  },
  {
   "cell_type": "raw",
   "id": "9df17751",
   "metadata": {},
   "source": [
    "Q.12\n",
    "The integers 0,1,2,3 and 4."
   ]
  }
 ],
 "metadata": {
  "kernelspec": {
   "display_name": "Python 3 (ipykernel)",
   "language": "python",
   "name": "python3"
  },
  "language_info": {
   "codemirror_mode": {
    "name": "ipython",
    "version": 3
   },
   "file_extension": ".py",
   "mimetype": "text/x-python",
   "name": "python",
   "nbconvert_exporter": "python",
   "pygments_lexer": "ipython3",
   "version": "3.9.12"
  }
 },
 "nbformat": 4,
 "nbformat_minor": 5
}
