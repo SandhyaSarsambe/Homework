{
 "cells": [
  {
   "cell_type": "code",
   "execution_count": 3,
   "id": "01084804",
   "metadata": {},
   "outputs": [],
   "source": [
    "#Q.1\n",
    "def func(a, b=6, c=8):\n",
    "    print(a, b, c)\n",
    "   "
   ]
  },
  {
   "cell_type": "code",
   "execution_count": 4,
   "id": "4ead756e",
   "metadata": {},
   "outputs": [
    {
     "name": "stdout",
     "output_type": "stream",
     "text": [
      "1 2 8\n"
     ]
    }
   ],
   "source": [
    "func(1,2)"
   ]
  },
  {
   "cell_type": "raw",
   "id": "7064122a",
   "metadata": {},
   "source": [
    "Here we have sent 2 values by user therefore a=1, b=2 and c=8 by default."
   ]
  },
  {
   "cell_type": "code",
   "execution_count": 5,
   "id": "34395c1b",
   "metadata": {},
   "outputs": [
    {
     "name": "stdout",
     "output_type": "stream",
     "text": [
      "1 2 3\n"
     ]
    }
   ],
   "source": [
    "#Q.2 \n",
    "def func(a, b, c=5):\n",
    "    print(a,b,c)\n",
    "func(1, c=3, b=2)"
   ]
  },
  {
   "cell_type": "raw",
   "id": "346d6d10",
   "metadata": {},
   "source": [
    "Here a=1, b=2, c=3. Position doesnt matter as long we have assigned the variable to which value is assigned."
   ]
  },
  {
   "cell_type": "code",
   "execution_count": 6,
   "id": "e3ace6ee",
   "metadata": {},
   "outputs": [
    {
     "name": "stdout",
     "output_type": "stream",
     "text": [
      "1 (2, 3)\n"
     ]
    }
   ],
   "source": [
    "#Q.3\n",
    "def func(a, *pargs):\n",
    "    print(a, pargs)\n",
    "func(1, 2, 3)"
   ]
  },
  {
   "cell_type": "raw",
   "id": "2dc5d03f",
   "metadata": {},
   "source": [
    "Here a=1. *pargs returns as many argument user gives as input in form of tuples."
   ]
  },
  {
   "cell_type": "code",
   "execution_count": 7,
   "id": "cf0dd246",
   "metadata": {},
   "outputs": [
    {
     "name": "stdout",
     "output_type": "stream",
     "text": [
      "1 {'c': 3, 'b': 2}\n"
     ]
    }
   ],
   "source": [
    "#Q.4 \n",
    "def func(a, **kargs):\n",
    "    print(a, kargs)\n",
    "    \n",
    "func(a=1,c=3, b=2)"
   ]
  },
  {
   "cell_type": "raw",
   "id": "210490a2",
   "metadata": {},
   "source": [
    "Here a=1. **kargs returns as many argument user gives as input in form of dictionary key-value pair."
   ]
  },
  {
   "cell_type": "code",
   "execution_count": 9,
   "id": "a18e9d64",
   "metadata": {},
   "outputs": [
    {
     "name": "stdout",
     "output_type": "stream",
     "text": [
      "1 5 6 5\n"
     ]
    }
   ],
   "source": [
    "#Q.5\n",
    "def func(a, b, c=8, d=5): \n",
    "    print(a, b, c, d)\n",
    "func(1, *(5, 6))"
   ]
  },
  {
   "cell_type": "raw",
   "id": "90d1fbd5",
   "metadata": {},
   "source": [
    "Here a=1. User input is given in the form of kargs. So as many variable is present that many times the value passed as kargs input will get printed.So here a=1,b=5,c=6,d=again 5."
   ]
  },
  {
   "cell_type": "code",
   "execution_count": 10,
   "id": "fe8abe36",
   "metadata": {},
   "outputs": [],
   "source": [
    "#Q.6 \n",
    "def func(a, b, c):\n",
    "    a=2; b[0]='x'; c['a']='y'"
   ]
  },
  {
   "cell_type": "code",
   "execution_count": 11,
   "id": "5119642f",
   "metadata": {},
   "outputs": [],
   "source": [
    "l=1; m=[1]; n={'a':0}"
   ]
  },
  {
   "cell_type": "code",
   "execution_count": 12,
   "id": "5cb53e5d",
   "metadata": {},
   "outputs": [],
   "source": [
    "func(l, m, n)"
   ]
  },
  {
   "cell_type": "code",
   "execution_count": 13,
   "id": "37dc2acf",
   "metadata": {},
   "outputs": [
    {
     "data": {
      "text/plain": [
       "(1, ['x'], {'a': 'y'})"
      ]
     },
     "execution_count": 13,
     "metadata": {},
     "output_type": "execute_result"
    }
   ],
   "source": [
    "l, m, n"
   ]
  },
  {
   "cell_type": "raw",
   "id": "489a82fe",
   "metadata": {},
   "source": [
    "Here in func(l,m,n) we passed l=1(user input), m is passed as list contain 1 element i.e 'x', n is passed as dictionary i.e {'a':'y'}"
   ]
  }
 ],
 "metadata": {
  "kernelspec": {
   "display_name": "Python 3 (ipykernel)",
   "language": "python",
   "name": "python3"
  },
  "language_info": {
   "codemirror_mode": {
    "name": "ipython",
    "version": 3
   },
   "file_extension": ".py",
   "mimetype": "text/x-python",
   "name": "python",
   "nbconvert_exporter": "python",
   "pygments_lexer": "ipython3",
   "version": "3.9.12"
  }
 },
 "nbformat": 4,
 "nbformat_minor": 5
}
