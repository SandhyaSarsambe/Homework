{
 "cells": [
  {
   "cell_type": "raw",
   "id": "cb2d0852",
   "metadata": {},
   "source": [
    "#Q.1\n",
    "List comprehension in square brackett produces list while in parenthesis produces tuple."
   ]
  },
  {
   "cell_type": "raw",
   "id": "e1e0cbc0",
   "metadata": {},
   "source": [
    "#Q.2\n",
    "Iterators are the objects that use the next() method to get the next value of the sequence. A generator is a function that produces or yields a sequence of values using a yield statement."
   ]
  },
  {
   "cell_type": "raw",
   "id": "9c4136b0",
   "metadata": {},
   "source": [
    "#Q.3\n",
    "Yield is the keyword to identify that function is generator."
   ]
  },
  {
   "cell_type": "raw",
   "id": "6a0e3bee",
   "metadata": {},
   "source": [
    "#Q.4\n",
    "Yield keyword returns a value and pauses the execution while maintaining the internal states."
   ]
  },
  {
   "cell_type": "raw",
   "id": "fd639ceb",
   "metadata": {},
   "source": [
    "#Q.5\n",
    "When we want the multiple values in single line of code at that time we use map() function while List comprehension in the substitute of map() function.\n",
    "List comprehension is more concise and easy to read as compare to map function. \n",
    "We can filter the values list comprehension but we don't have that facility in map function.\n",
    "Map is faster in case of calling an already defined function."
   ]
  }
 ],
 "metadata": {
  "kernelspec": {
   "display_name": "Python 3 (ipykernel)",
   "language": "python",
   "name": "python3"
  },
  "language_info": {
   "codemirror_mode": {
    "name": "ipython",
    "version": 3
   },
   "file_extension": ".py",
   "mimetype": "text/x-python",
   "name": "python",
   "nbconvert_exporter": "python",
   "pygments_lexer": "ipython3",
   "version": "3.9.12"
  }
 },
 "nbformat": 4,
 "nbformat_minor": 5
}
