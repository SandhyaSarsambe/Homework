{
 "cells": [
  {
   "cell_type": "raw",
   "id": "ad282a80",
   "metadata": {},
   "source": [
    "Q.1 Escape Characters:\n",
    "    n and t are the escape characters.\n",
    "    Backslash (\\) followed by n or t represents the escape characters.\n",
    "    Use of \\n jumps to the next line and \\t gives a tab.\n"
   ]
  },
  {
   "cell_type": "raw",
   "id": "30739a24",
   "metadata": {},
   "source": [
    "Q.2 Escape characters n & t?\n",
    "The escape character n stands for the newline. The string after \\n goes to the next newline.\n",
    "The escape character t stands for the tab."
   ]
  },
  {
   "cell_type": "raw",
   "id": "4bb29dc9",
   "metadata": {},
   "source": [
    "Q.3\n",
    "Generally in string, we use double backslash (\\\\)."
   ]
  },
  {
   "cell_type": "raw",
   "id": "f3ddb21f",
   "metadata": {},
   "source": [
    "Q.4\n",
    "The single quote ' in howl's is not created problem because it is written in the doble quote \" \" string."
   ]
  },
  {
   "cell_type": "raw",
   "id": "bf28d4fd",
   "metadata": {},
   "source": [
    "Q.5. How do you write a string of newlines if you don't want to use the n character?\n",
    "Directly we write in the next line."
   ]
  },
  {
   "cell_type": "code",
   "execution_count": 4,
   "id": "6b0a51b7",
   "metadata": {},
   "outputs": [
    {
     "data": {
      "text/plain": [
       "'e'"
      ]
     },
     "execution_count": 4,
     "metadata": {},
     "output_type": "execute_result"
    }
   ],
   "source": [
    "#Q.6\n",
    "'Hello, world!'[1]"
   ]
  },
  {
   "cell_type": "code",
   "execution_count": 5,
   "id": "776f572c",
   "metadata": {},
   "outputs": [
    {
     "data": {
      "text/plain": [
       "'Hello'"
      ]
     },
     "execution_count": 5,
     "metadata": {},
     "output_type": "execute_result"
    }
   ],
   "source": [
    "'Hello, world!'[0:5]"
   ]
  },
  {
   "cell_type": "code",
   "execution_count": 6,
   "id": "c537a5c9",
   "metadata": {},
   "outputs": [
    {
     "data": {
      "text/plain": [
       "'Hello'"
      ]
     },
     "execution_count": 6,
     "metadata": {},
     "output_type": "execute_result"
    }
   ],
   "source": [
    "'Hello, world!'[:5]"
   ]
  },
  {
   "cell_type": "code",
   "execution_count": 7,
   "id": "1352eaef",
   "metadata": {},
   "outputs": [
    {
     "data": {
      "text/plain": [
       "'lo, world!'"
      ]
     },
     "execution_count": 7,
     "metadata": {},
     "output_type": "execute_result"
    }
   ],
   "source": [
    "'Hello, world!'[3:]"
   ]
  },
  {
   "cell_type": "code",
   "execution_count": 8,
   "id": "773a7311",
   "metadata": {},
   "outputs": [
    {
     "data": {
      "text/plain": [
       "'HELLO'"
      ]
     },
     "execution_count": 8,
     "metadata": {},
     "output_type": "execute_result"
    }
   ],
   "source": [
    "#Q.7\n",
    "'Hello'.upper()"
   ]
  },
  {
   "cell_type": "code",
   "execution_count": 12,
   "id": "2a391d18",
   "metadata": {},
   "outputs": [
    {
     "data": {
      "text/plain": [
       "True"
      ]
     },
     "execution_count": 12,
     "metadata": {},
     "output_type": "execute_result"
    }
   ],
   "source": [
    "'Hello'.upper().isupper()"
   ]
  },
  {
   "cell_type": "code",
   "execution_count": 10,
   "id": "a62bcb7f",
   "metadata": {},
   "outputs": [
    {
     "data": {
      "text/plain": [
       "'hello'"
      ]
     },
     "execution_count": 10,
     "metadata": {},
     "output_type": "execute_result"
    }
   ],
   "source": [
    "'Hello'.upper().lower()"
   ]
  },
  {
   "cell_type": "code",
   "execution_count": 13,
   "id": "de761ed0",
   "metadata": {},
   "outputs": [
    {
     "data": {
      "text/plain": [
       "['Remember,', 'remember,', 'the', 'fifth', 'of', 'July.']"
      ]
     },
     "execution_count": 13,
     "metadata": {},
     "output_type": "execute_result"
    }
   ],
   "source": [
    "#Q.8\n",
    "'Remember, remember, the fifth of July.'.split()"
   ]
  },
  {
   "cell_type": "code",
   "execution_count": 14,
   "id": "7a220579",
   "metadata": {},
   "outputs": [
    {
     "data": {
      "text/plain": [
       "'There-can-only-one.'"
      ]
     },
     "execution_count": 14,
     "metadata": {},
     "output_type": "execute_result"
    }
   ],
   "source": [
    "'-'.join('There can only one.'.split())"
   ]
  },
  {
   "cell_type": "raw",
   "id": "7c414ad9",
   "metadata": {},
   "source": [
    "Q.9 Right justifying method, left justifying method and centering\n",
    "Left justifying method - In left justifying method, the whitespace is filled after string if any character is not given upto the given length.\n",
    "Right justifying method - In right justifying method, the whitespace is filled before string if any character is not given upto the given length.\n",
    "Centering - In this method, the string is kept in center of given length and the starting and ending space is filled with whitespace if any character is not given."
   ]
  },
  {
   "cell_type": "raw",
   "id": "b5bd8b36",
   "metadata": {},
   "source": [
    "#Q.10\n",
    "To remove whitespace characters from start of the string we use lstrip function while to remove whitespace characters at the end we use rstrip function."
   ]
  }
 ],
 "metadata": {
  "kernelspec": {
   "display_name": "Python 3 (ipykernel)",
   "language": "python",
   "name": "python3"
  },
  "language_info": {
   "codemirror_mode": {
    "name": "ipython",
    "version": 3
   },
   "file_extension": ".py",
   "mimetype": "text/x-python",
   "name": "python",
   "nbconvert_exporter": "python",
   "pygments_lexer": "ipython3",
   "version": "3.9.12"
  }
 },
 "nbformat": 4,
 "nbformat_minor": 5
}
