{
 "cells": [
  {
   "cell_type": "raw",
   "id": "76ecbbd9",
   "metadata": {},
   "source": [
    "Q.1\n",
    "Ans. The re.compile() function returns the Regex objects."
   ]
  },
  {
   "cell_type": "raw",
   "id": "204a4dbe",
   "metadata": {},
   "source": [
    "Q.2 \n",
    "Raw strings are used so that backslashes do not have to be escaped."
   ]
  },
  {
   "cell_type": "raw",
   "id": "e324611d",
   "metadata": {},
   "source": [
    "Q.3\n",
    "The search() method returns Match objects."
   ]
  },
  {
   "cell_type": "raw",
   "id": "6e210637",
   "metadata": {},
   "source": [
    "Q.4\n",
    "The group() method returns strings of the matched text."
   ]
  },
  {
   "cell_type": "raw",
   "id": "815de752",
   "metadata": {},
   "source": [
    "Q.5\n",
    "Group 0 is the entire match, group 1 covers the first set of parentheses, and group 2 covers the second set of parentheses."
   ]
  },
  {
   "cell_type": "raw",
   "id": "272cd7bb",
   "metadata": {},
   "source": [
    "Q.6\n",
    "Periods and parentheses can be escaped with a backslash: ., (, and )."
   ]
  },
  {
   "cell_type": "raw",
   "id": "3f0c4bef",
   "metadata": {},
   "source": [
    "Q.7\n",
    "If the regex has no groups, a list of strings is returned. If the regex has groups, a list of tuples of strings is returned."
   ]
  },
  {
   "cell_type": "raw",
   "id": "aa03dbe9",
   "metadata": {},
   "source": [
    "Q.8\n",
    "The | character signifies matching “either, or” between two groups."
   ]
  },
  {
   "cell_type": "raw",
   "id": "9ceb1c30",
   "metadata": {},
   "source": [
    "Q.9\n",
    "The ? character can either mean “match zero or one of the preceding group” or be used to signify nongreedy matching."
   ]
  },
  {
   "cell_type": "raw",
   "id": "3677bad1",
   "metadata": {},
   "source": [
    "Q.10\n",
    "The + matches one or more. The * matches zero or more."
   ]
  },
  {
   "cell_type": "raw",
   "id": "ac2b52c0",
   "metadata": {},
   "source": [
    "Q.11\n",
    "The {4} matches exactly four instances of the preceding group. The {4,5} matches between four and five instances."
   ]
  },
  {
   "cell_type": "raw",
   "id": "b81d4f05",
   "metadata": {},
   "source": [
    "Q.12\n",
    "The \\d, \\w, and \\s shorthand character classes match a single digit, word, or space character, respectively."
   ]
  },
  {
   "cell_type": "raw",
   "id": "db06d688",
   "metadata": {},
   "source": [
    "Q.13\n",
    "The \\D, \\W, and \\S shorthand character classes match a single character that is not a digit, word, or space character, respectively."
   ]
  },
  {
   "cell_type": "raw",
   "id": "fdccd275",
   "metadata": {},
   "source": [
    "Q.14\n",
    "The .* performs a greedy match, and the .*? performs a nongreedy match."
   ]
  },
  {
   "cell_type": "raw",
   "id": "e4c90aa6",
   "metadata": {},
   "source": [
    "Q.15\n",
    "Either [0-9a-z] or [a-z0-9]"
   ]
  },
  {
   "cell_type": "raw",
   "id": "449a7155",
   "metadata": {},
   "source": [
    "Q.16\n",
    "Passing re.I or re.IGNORECASE as the second argument to re.compile() will make the matching case insensitive."
   ]
  },
  {
   "cell_type": "raw",
   "id": "02833a99",
   "metadata": {},
   "source": [
    "Q.17\n",
    "The . character normally matches any character except the newline character. If re.DOTALL is passed as the second argument to re.compile(), then the dot will also match newline characters."
   ]
  },
  {
   "cell_type": "raw",
   "id": "b3433e81",
   "metadata": {},
   "source": [
    "Q.18\n",
    "'X drummers, X pipers, five rings, X hens'"
   ]
  },
  {
   "cell_type": "raw",
   "id": "6126cdaa",
   "metadata": {},
   "source": [
    "Q.19\n",
    "The re.VERBOSE argument allows you to add whitespace and comments to the string passed to re.compile()."
   ]
  },
  {
   "cell_type": "raw",
   "id": "38e2efdd",
   "metadata": {},
   "source": [
    "Q.20\n",
    "re.compile(r'^\\d{1,3}(,\\d{3})*$') will create this regex, but other regex strings can produce a similar regular expression."
   ]
  },
  {
   "cell_type": "raw",
   "id": "d2496f41",
   "metadata": {},
   "source": [
    "Q.21\n",
    " re.compile(r'\\s([A-Z]\\w+)\\s(Watanabe)')"
   ]
  },
  {
   "cell_type": "raw",
   "id": "80fde68a",
   "metadata": {},
   "source": [
    "Q.22\n",
    " re.compile(r'(Alice|Bob|Carol)\\s(eats|pets|throws)\\s(apples|cats|baseballs).', re.IGNORECASE)"
   ]
  }
 ],
 "metadata": {
  "kernelspec": {
   "display_name": "Python 3 (ipykernel)",
   "language": "python",
   "name": "python3"
  },
  "language_info": {
   "codemirror_mode": {
    "name": "ipython",
    "version": 3
   },
   "file_extension": ".py",
   "mimetype": "text/x-python",
   "name": "python",
   "nbconvert_exporter": "python",
   "pygments_lexer": "ipython3",
   "version": "3.9.12"
  }
 },
 "nbformat": 4,
 "nbformat_minor": 5
}
