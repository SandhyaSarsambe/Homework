{
 "cells": [
  {
   "cell_type": "code",
   "execution_count": 4,
   "id": "685c78a2",
   "metadata": {},
   "outputs": [
    {
     "name": "stdout",
     "output_type": "stream",
     "text": [
      "2\n",
      "3\n",
      "0\n"
     ]
    }
   ],
   "source": [
    "#Q.1 Equal value\n",
    "def equal_value(a, b, c):\n",
    "    count = 0\n",
    "    if a==b and a==c:\n",
    "        count=3\n",
    "    elif a==b or a==c or b==c:\n",
    "        count = 2\n",
    "    else:\n",
    "        count = 0\n",
    "    return count\n",
    "print(equal_value(3,4,3))\n",
    "print(equal_value(1,1,1))\n",
    "print(equal_value(3,4,1))\n",
    "   "
   ]
  },
  {
   "cell_type": "code",
   "execution_count": 10,
   "id": "f23ca703",
   "metadata": {},
   "outputs": [],
   "source": [
    "#Q. 2 Dict to list of tuples\n",
    "def dict_to_list(d):\n",
    "    return list(d.items())"
   ]
  },
  {
   "cell_type": "code",
   "execution_count": 11,
   "id": "ef497bd2",
   "metadata": {},
   "outputs": [
    {
     "data": {
      "text/plain": [
       "[('D', 1), ('B', 2), ('C', 3)]"
      ]
     },
     "execution_count": 11,
     "metadata": {},
     "output_type": "execute_result"
    }
   ],
   "source": [
    "dict_to_list({\"D\": 1,\"B\": 2,\"C\": 3})"
   ]
  },
  {
   "cell_type": "code",
   "execution_count": 16,
   "id": "eb95075c",
   "metadata": {},
   "outputs": [],
   "source": [
    "#Q.3 dictionary of upper & lower case\n",
    "def mapping(lst):\n",
    "    return {v.lower():v.upper() for v in lst}"
   ]
  },
  {
   "cell_type": "code",
   "execution_count": 17,
   "id": "05de0a98",
   "metadata": {},
   "outputs": [
    {
     "data": {
      "text/plain": [
       "{'p': 'P', 's': 'S'}"
      ]
     },
     "execution_count": 17,
     "metadata": {},
     "output_type": "execute_result"
    }
   ],
   "source": [
    "mapping(['p', 's'])"
   ]
  },
  {
   "cell_type": "code",
   "execution_count": 18,
   "id": "54f334d6",
   "metadata": {},
   "outputs": [
    {
     "data": {
      "text/plain": [
       "{'a': 'A', 'b': 'B', 'c': 'C'}"
      ]
     },
     "execution_count": 18,
     "metadata": {},
     "output_type": "execute_result"
    }
   ],
   "source": [
    "mapping([\"a\", \"b\", \"c\"])"
   ]
  },
  {
   "cell_type": "code",
   "execution_count": 19,
   "id": "f7e5a75b",
   "metadata": {},
   "outputs": [],
   "source": [
    "#Q.4 vowel replace\n",
    "def vow_repl(s, ch):\n",
    "    s1=[]\n",
    "    vow ='AEIOUaeiou'\n",
    "    for i in range(len(s)):\n",
    "        if s[i] in vow:\n",
    "            s1.append(ch)\n",
    "        else:\n",
    "            s1.append(s[i])\n",
    "            \n",
    "    return ''.join(s1)"
   ]
  },
  {
   "cell_type": "code",
   "execution_count": 20,
   "id": "000e4ef6",
   "metadata": {},
   "outputs": [
    {
     "data": {
      "text/plain": [
       "'upplus und bununus'"
      ]
     },
     "execution_count": 20,
     "metadata": {},
     "output_type": "execute_result"
    }
   ],
   "source": [
    "vow_repl('apples and bananas', 'u')"
   ]
  },
  {
   "cell_type": "code",
   "execution_count": 21,
   "id": "7f501b9e",
   "metadata": {},
   "outputs": [
    {
     "data": {
      "text/plain": [
       "'chooso cossorolo'"
      ]
     },
     "execution_count": 21,
     "metadata": {},
     "output_type": "execute_result"
    }
   ],
   "source": [
    "vow_repl('cheese casserole', 'o')"
   ]
  },
  {
   "cell_type": "code",
   "execution_count": 22,
   "id": "55a6230c",
   "metadata": {},
   "outputs": [],
   "source": [
    "#Q.5 asccii capitalize\n",
    "def ascii_capitalize(s):\n",
    "    s1 = []\n",
    "    for i in range(len(s)):\n",
    "        if ord(s[i]) % 2 == 0:\n",
    "            s1.append(s[i].upper())\n",
    "        else:\n",
    "            s1.append(s[i].lower())\n",
    "\n",
    "    return \"\".join((s1))"
   ]
  },
  {
   "cell_type": "code",
   "execution_count": 23,
   "id": "3492f511",
   "metadata": {},
   "outputs": [
    {
     "data": {
      "text/plain": [
       "'To Be oR NoT To Be!'"
      ]
     },
     "execution_count": 23,
     "metadata": {},
     "output_type": "execute_result"
    }
   ],
   "source": [
    "ascii_capitalize('to be or not to be!')"
   ]
  },
  {
   "cell_type": "code",
   "execution_count": 24,
   "id": "dd76c6e5",
   "metadata": {},
   "outputs": [
    {
     "data": {
      "text/plain": [
       "'THe LiTTLe meRmaiD'"
      ]
     },
     "execution_count": 24,
     "metadata": {},
     "output_type": "execute_result"
    }
   ],
   "source": [
    "ascii_capitalize('THE LITTLE MERMAID')"
   ]
  },
  {
   "cell_type": "code",
   "execution_count": null,
   "id": "7e13b4e3",
   "metadata": {},
   "outputs": [],
   "source": []
  }
 ],
 "metadata": {
  "kernelspec": {
   "display_name": "Python 3 (ipykernel)",
   "language": "python",
   "name": "python3"
  },
  "language_info": {
   "codemirror_mode": {
    "name": "ipython",
    "version": 3
   },
   "file_extension": ".py",
   "mimetype": "text/x-python",
   "name": "python",
   "nbconvert_exporter": "python",
   "pygments_lexer": "ipython3",
   "version": "3.9.12"
  }
 },
 "nbformat": 4,
 "nbformat_minor": 5
}
