{
 "cells": [
  {
   "cell_type": "code",
   "execution_count": 11,
   "id": "7212a455",
   "metadata": {},
   "outputs": [],
   "source": [
    "s= \"this is My first Python programming class and i am learNING python string and its function\""
   ]
  },
  {
   "cell_type": "markdown",
   "id": "2b6ac555",
   "metadata": {},
   "source": [
    "Extract index 1 to 300 with jump of 3"
   ]
  },
  {
   "cell_type": "code",
   "execution_count": 12,
   "id": "fbe34509",
   "metadata": {},
   "outputs": [
    {
     "data": {
      "text/plain": [
       "'h   r tnrrmglsnimeNGyosi dtfco'"
      ]
     },
     "execution_count": 12,
     "metadata": {},
     "output_type": "execute_result"
    }
   ],
   "source": [
    "s[1:300:3]"
   ]
  },
  {
   "cell_type": "markdown",
   "id": "4730169e",
   "metadata": {},
   "source": [
    "Reverse of a string"
   ]
  },
  {
   "cell_type": "code",
   "execution_count": 13,
   "id": "5ac21de7",
   "metadata": {},
   "outputs": [
    {
     "data": {
      "text/plain": [
       "'noitcnuf sti dna gnirts nohtyp GNINrael ma i dna ssalc gnimmargorp nohtyP tsrif yM si siht'"
      ]
     },
     "execution_count": 13,
     "metadata": {},
     "output_type": "execute_result"
    }
   ],
   "source": [
    "s[::-1]"
   ]
  },
  {
   "cell_type": "markdown",
   "id": "c47f39f8",
   "metadata": {},
   "source": [
    "split a string aftr converstion in uppercase"
   ]
  },
  {
   "cell_type": "code",
   "execution_count": 16,
   "id": "8edff9b8",
   "metadata": {},
   "outputs": [
    {
     "data": {
      "text/plain": [
       "['THIS',\n",
       " 'IS',\n",
       " 'MY',\n",
       " 'FIRST',\n",
       " 'PYTHON',\n",
       " 'PROGRAMMING',\n",
       " 'CLASS',\n",
       " 'AND',\n",
       " 'I',\n",
       " 'AM',\n",
       " 'LEARNING',\n",
       " 'PYTHON',\n",
       " 'STRING',\n",
       " 'AND',\n",
       " 'ITS',\n",
       " 'FUNCTION']"
      ]
     },
     "execution_count": 16,
     "metadata": {},
     "output_type": "execute_result"
    }
   ],
   "source": [
    "s=s.upper()\n",
    "s.split()"
   ]
  },
  {
   "cell_type": "markdown",
   "id": "9218cb20",
   "metadata": {},
   "source": [
    "string into lowercase"
   ]
  },
  {
   "cell_type": "code",
   "execution_count": 17,
   "id": "7e99db2d",
   "metadata": {},
   "outputs": [
    {
     "data": {
      "text/plain": [
       "'this is my first python programming class and i am learning python string and its function'"
      ]
     },
     "execution_count": 17,
     "metadata": {},
     "output_type": "execute_result"
    }
   ],
   "source": [
    "s.lower()"
   ]
  },
  {
   "cell_type": "markdown",
   "id": "a96ce8ca",
   "metadata": {},
   "source": [
    "Capitalize whole string"
   ]
  },
  {
   "cell_type": "code",
   "execution_count": 20,
   "id": "47c96751",
   "metadata": {},
   "outputs": [
    {
     "data": {
      "text/plain": [
       "'THIS IS MY FIRST PYTHON PROGRAMMING CLASS AND I AM LEARNING PYTHON STRING AND ITS FUNCTION'"
      ]
     },
     "execution_count": 20,
     "metadata": {},
     "output_type": "execute_result"
    }
   ],
   "source": [
    "s.upper()"
   ]
  },
  {
   "cell_type": "markdown",
   "id": "a2996926",
   "metadata": {},
   "source": [
    "Diff. between isalnum() and isalpha()"
   ]
  },
  {
   "cell_type": "markdown",
   "id": "6b39c29f",
   "metadata": {},
   "source": [
    "alnum means the string contains alphabetic characters as well as the numeric value also.If no. is not present then also is called alnum.\n",
    "alpha means the string contains only alphabetic characters."
   ]
  },
  {
   "cell_type": "markdown",
   "id": "b164eff7",
   "metadata": {},
   "source": [
    "Example of expand tab"
   ]
  },
  {
   "cell_type": "code",
   "execution_count": 47,
   "id": "410c2bfa",
   "metadata": {},
   "outputs": [
    {
     "data": {
      "text/plain": [
       "'i       love    python'"
      ]
     },
     "execution_count": 47,
     "metadata": {},
     "output_type": "execute_result"
    }
   ],
   "source": [
    "a=\"i\\tlove\\tpython\"\n",
    "a.expandtabs()"
   ]
  },
  {
   "cell_type": "markdown",
   "id": "3a86cd12",
   "metadata": {},
   "source": [
    "Example of strip, lstrip, rstrip"
   ]
  },
  {
   "cell_type": "code",
   "execution_count": 48,
   "id": "74db2912",
   "metadata": {},
   "outputs": [
    {
     "data": {
      "text/plain": [
       "'programming language'"
      ]
     },
     "execution_count": 48,
     "metadata": {},
     "output_type": "execute_result"
    }
   ],
   "source": [
    "b=\"    programming language    \"\n",
    "b.strip()"
   ]
  },
  {
   "cell_type": "code",
   "execution_count": 49,
   "id": "2c35bf61",
   "metadata": {},
   "outputs": [
    {
     "data": {
      "text/plain": [
       "'programming language    '"
      ]
     },
     "execution_count": 49,
     "metadata": {},
     "output_type": "execute_result"
    }
   ],
   "source": [
    "b.lstrip()"
   ]
  },
  {
   "cell_type": "code",
   "execution_count": 50,
   "id": "b5dc66e5",
   "metadata": {},
   "outputs": [
    {
     "data": {
      "text/plain": [
       "'    programming language'"
      ]
     },
     "execution_count": 50,
     "metadata": {},
     "output_type": "execute_result"
    }
   ],
   "source": [
    "b.rstrip()"
   ]
  },
  {
   "cell_type": "markdown",
   "id": "bf0da04d",
   "metadata": {},
   "source": [
    "Replace string character by another character"
   ]
  },
  {
   "cell_type": "code",
   "execution_count": 62,
   "id": "a09f12cb",
   "metadata": {},
   "outputs": [
    {
     "data": {
      "text/plain": [
       "'pbthon'"
      ]
     },
     "execution_count": 62,
     "metadata": {},
     "output_type": "execute_result"
    }
   ],
   "source": [
    "a=\"python\"\n",
    "a.replace('y', 'b')"
   ]
  },
  {
   "cell_type": "markdown",
   "id": "c43fc8e9",
   "metadata": {},
   "source": [
    "defination of string center function with example"
   ]
  },
  {
   "cell_type": "markdown",
   "id": "5d6d9c09",
   "metadata": {},
   "source": [
    "String center method aligns the string in center or at middle."
   ]
  },
  {
   "cell_type": "code",
   "execution_count": 64,
   "id": "15e6259a",
   "metadata": {},
   "outputs": [
    {
     "data": {
      "text/plain": [
       "'**python**'"
      ]
     },
     "execution_count": 64,
     "metadata": {},
     "output_type": "execute_result"
    }
   ],
   "source": [
    "a.center(10, '*')"
   ]
  },
  {
   "cell_type": "markdown",
   "id": "004a572c",
   "metadata": {},
   "source": [
    "Compiler and interpreter\n",
    "Compiler and interpreter both converts the human language into computer language but some difference is there in both.\n",
    "Interpreter translates one line at a time while compiler translates whole programm once at a time in computer language."
   ]
  },
  {
   "cell_type": "code",
   "execution_count": null,
   "id": "33929dcf",
   "metadata": {},
   "outputs": [],
   "source": [
    "Usecase of python\n",
    "Python is very easy language to understand even for beginner also. It is very easy to access. Its syntax is very clear by which anyone can realize it. Python language is not only used in mobile applications but in most other places it is used very easily."
   ]
  }
 ],
 "metadata": {
  "kernelspec": {
   "display_name": "Python 3 (ipykernel)",
   "language": "python",
   "name": "python3"
  },
  "language_info": {
   "codemirror_mode": {
    "name": "ipython",
    "version": 3
   },
   "file_extension": ".py",
   "mimetype": "text/x-python",
   "name": "python",
   "nbconvert_exporter": "python",
   "pygments_lexer": "ipython3",
   "version": "3.9.12"
  }
 },
 "nbformat": 4,
 "nbformat_minor": 5
}
