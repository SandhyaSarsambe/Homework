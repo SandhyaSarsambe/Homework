{
 "cells": [
  {
   "cell_type": "code",
   "execution_count": 3,
   "id": "a2db8c2d",
   "metadata": {},
   "outputs": [
    {
     "name": "stdout",
     "output_type": "stream",
     "text": [
      "ssttrriinngg\n",
      "hheelllloo  wwoorrlldd\n"
     ]
    }
   ],
   "source": [
    "#Q.1 Double the string\n",
    "def double_string(s):\n",
    "    return ''.join([i+i for i in s])\n",
    "print(double_string(\"string\"))\n",
    "print(double_string(\"hello world\"))"
   ]
  },
  {
   "cell_type": "code",
   "execution_count": 5,
   "id": "de782301",
   "metadata": {},
   "outputs": [
    {
     "name": "stdout",
     "output_type": "stream",
     "text": [
      "False\n",
      "True\n",
      "boolean expected\n"
     ]
    }
   ],
   "source": [
    "#Q.2 Reverse the boolean value\n",
    "def reverse(arg=None):\n",
    "    return not arg if type(arg)==bool else \"boolean expected\"\n",
    "\n",
    "print(reverse(True))\n",
    "print(reverse(False))\n",
    "print(reverse(\"hi\"))\n"
   ]
  },
  {
   "cell_type": "code",
   "execution_count": 7,
   "id": "3ca4dc21",
   "metadata": {},
   "outputs": [
    {
     "name": "stdout",
     "output_type": "stream",
     "text": [
      "0.001m\n",
      "0.008m\n",
      "1048.576m\n"
     ]
    }
   ],
   "source": [
    "#Q.3 Thickness of paper\n",
    "def number_of_layers(n):\n",
    "    thickness = 0.5\n",
    "    for i in range (n):\n",
    "        thickness = thickness *2\n",
    "        \n",
    "    return str(thickness/1000) + 'm'\n",
    "\n",
    "print(number_of_layers(1))\n",
    "print(number_of_layers(4))\n",
    "print(number_of_layers(21))"
   ]
  },
  {
   "cell_type": "code",
   "execution_count": 8,
   "id": "1e796e21",
   "metadata": {},
   "outputs": [
    {
     "name": "stdout",
     "output_type": "stream",
     "text": [
      "[1, 3, 5]\n",
      "[1, 3, 4, 6]\n",
      "[]\n"
     ]
    }
   ],
   "source": [
    "#Q.4 Indices of capital letter\n",
    "def index_capital_letter(s):\n",
    "    indices= []\n",
    "    for i in range(len(s)):\n",
    "        if s[i].isupper():\n",
    "            indices.append(i)\n",
    "    return indices\n",
    "\n",
    "print(index_capital_letter(\"eDaBiT\"))\n",
    "print(index_capital_letter(\"eQuINoX\"))\n",
    "print(index_capital_letter(\"determine\"))\n",
    "            \n",
    "            "
   ]
  },
  {
   "cell_type": "code",
   "execution_count": 12,
   "id": "0b277876",
   "metadata": {},
   "outputs": [
    {
     "name": "stdout",
     "output_type": "stream",
     "text": [
      "[2, 4]\n",
      "[2, 4, 6, 8, 10]\n",
      "[2, 4, 6]\n"
     ]
    }
   ],
   "source": [
    "#Q.5 Even numbers\n",
    "def even_numbers(n):\n",
    "    even = [x for x in range(2, n+1) if x%2 == 0]\n",
    "    return even\n",
    "\n",
    "print(even_numbers(5))\n",
    "print(even_numbers(10))\n",
    "print(even_numbers(7))"
   ]
  },
  {
   "cell_type": "code",
   "execution_count": null,
   "id": "7ee0cd6d",
   "metadata": {},
   "outputs": [],
   "source": []
  }
 ],
 "metadata": {
  "kernelspec": {
   "display_name": "Python 3 (ipykernel)",
   "language": "python",
   "name": "python3"
  },
  "language_info": {
   "codemirror_mode": {
    "name": "ipython",
    "version": 3
   },
   "file_extension": ".py",
   "mimetype": "text/x-python",
   "name": "python",
   "nbconvert_exporter": "python",
   "pygments_lexer": "ipython3",
   "version": "3.9.12"
  }
 },
 "nbformat": 4,
 "nbformat_minor": 5
}
