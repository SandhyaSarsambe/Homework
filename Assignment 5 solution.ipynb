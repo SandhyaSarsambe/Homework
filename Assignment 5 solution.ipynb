{
 "cells": [
  {
   "cell_type": "raw",
   "id": "315f1c41",
   "metadata": {},
   "source": [
    "Q.1\n",
    "The empty dictionary looks like {}."
   ]
  },
  {
   "cell_type": "code",
   "execution_count": 2,
   "id": "135a8357",
   "metadata": {},
   "outputs": [
    {
     "data": {
      "text/plain": [
       "dict_values([42])"
      ]
     },
     "execution_count": 2,
     "metadata": {},
     "output_type": "execute_result"
    }
   ],
   "source": [
    "#Q.2\n",
    "dict= {'foo': 42}\n",
    "dict.values()"
   ]
  },
  {
   "cell_type": "raw",
   "id": "7a1cd2c5",
   "metadata": {},
   "source": [
    "Q. 3 Distinction between list and Dictionary\n",
    "List is created using square brackett []. \n",
    "Dictionary is created using curley brackett {}.\n",
    "For dictionary, we have key and value pair like {\"key\":\"value\"} and for list we don't want key: value pairs."
   ]
  },
  {
   "cell_type": "raw",
   "id": "6fdef221",
   "metadata": {},
   "source": [
    "Q.4 \n",
    "spam = {'bar' : 100}\n",
    "spam['foo']\n",
    "To access foo, we will get an keyerror."
   ]
  },
  {
   "cell_type": "raw",
   "id": "468ca293",
   "metadata": {},
   "source": [
    "Q.5 \n",
    "There is no difference. The in operator checks whether cat is present in key values or not."
   ]
  },
  {
   "cell_type": "raw",
   "id": "e1f0a9f6",
   "metadata": {},
   "source": [
    "Q.6\n",
    "cat' in spam checks whether there is a 'cat' key in the dictionary, while 'cat' in spam.values(). checks whether there is a value 'cat' for one of the keys in spam."
   ]
  },
  {
   "cell_type": "raw",
   "id": "e4359d0d",
   "metadata": {},
   "source": [
    "Q.7\n",
    "spam.setdefault('color','black')"
   ]
  },
  {
   "cell_type": "raw",
   "id": "f297acb3",
   "metadata": {},
   "source": [
    "Q.8\n",
    "pprint.pprint()"
   ]
  }
 ],
 "metadata": {
  "kernelspec": {
   "display_name": "Python 3 (ipykernel)",
   "language": "python",
   "name": "python3"
  },
  "language_info": {
   "codemirror_mode": {
    "name": "ipython",
    "version": 3
   },
   "file_extension": ".py",
   "mimetype": "text/x-python",
   "name": "python",
   "nbconvert_exporter": "python",
   "pygments_lexer": "ipython3",
   "version": "3.9.12"
  }
 },
 "nbformat": 4,
 "nbformat_minor": 5
}
