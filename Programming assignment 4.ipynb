{
 "cells": [
  {
   "cell_type": "code",
   "execution_count": 5,
   "id": "409d615e",
   "metadata": {},
   "outputs": [],
   "source": [
    "#Q. 1 Factorial of number\n",
    "def factorial(n):\n",
    "    if n == 0:\n",
    "        return 1\n",
    "    else:\n",
    "        result = factorial(n-1)\n",
    "        result = n * result\n",
    "        return result"
   ]
  },
  {
   "cell_type": "code",
   "execution_count": 6,
   "id": "f67989a9",
   "metadata": {},
   "outputs": [
    {
     "data": {
      "text/plain": [
       "1"
      ]
     },
     "execution_count": 6,
     "metadata": {},
     "output_type": "execute_result"
    }
   ],
   "source": [
    "factorial(0)"
   ]
  },
  {
   "cell_type": "code",
   "execution_count": 8,
   "id": "1187cf37",
   "metadata": {},
   "outputs": [
    {
     "data": {
      "text/plain": [
       "24"
      ]
     },
     "execution_count": 8,
     "metadata": {},
     "output_type": "execute_result"
    }
   ],
   "source": [
    "factorial(4)"
   ]
  },
  {
   "cell_type": "code",
   "execution_count": 10,
   "id": "2f7ef200",
   "metadata": {},
   "outputs": [],
   "source": [
    "#Q.2 Multiplication table\n",
    "def multiplication_table(n):\n",
    "    i = 1\n",
    "    while i<=10:\n",
    "        prod = i*n\n",
    "        print(prod)\n",
    "        i+=1\n",
    "        "
   ]
  },
  {
   "cell_type": "code",
   "execution_count": 11,
   "id": "9bc2d361",
   "metadata": {},
   "outputs": [
    {
     "name": "stdout",
     "output_type": "stream",
     "text": [
      "2\n",
      "4\n",
      "6\n",
      "8\n",
      "10\n",
      "12\n",
      "14\n",
      "16\n",
      "18\n",
      "20\n"
     ]
    }
   ],
   "source": [
    "multiplication_table(2)"
   ]
  },
  {
   "cell_type": "code",
   "execution_count": 12,
   "id": "79e03a59",
   "metadata": {},
   "outputs": [],
   "source": [
    "#Q.3 Fibonacci series\n",
    "def fib(n):\n",
    "    a=0\n",
    "    b=1\n",
    "    if n == 0:\n",
    "        print(a)\n",
    "    else:\n",
    "        print(a)\n",
    "        print(b)\n",
    "        for i in range(2, n):\n",
    "            c = a+b\n",
    "            a=b\n",
    "            b=c\n",
    "            print(c)\n",
    "\n",
    "        "
   ]
  },
  {
   "cell_type": "code",
   "execution_count": 13,
   "id": "ddbd57ec",
   "metadata": {},
   "outputs": [
    {
     "name": "stdout",
     "output_type": "stream",
     "text": [
      "0\n",
      "1\n",
      "1\n",
      "2\n",
      "3\n"
     ]
    }
   ],
   "source": [
    "fib(5)"
   ]
  },
  {
   "cell_type": "code",
   "execution_count": 14,
   "id": "6cf24f0c",
   "metadata": {},
   "outputs": [
    {
     "name": "stdout",
     "output_type": "stream",
     "text": [
      "Enter a number for checking of armstrong no.: 35\n",
      "No. is not Armstrong no.\n"
     ]
    }
   ],
   "source": [
    "#Q.4 Check of Armstrong no.\n",
    "i= int(input(\"Enter a number for checking of armstrong no.: \"))\n",
    "original = i\n",
    "sum = 0\n",
    "while i>0:\n",
    "    sum = sum + (i%10)*(i%10)*(i%10)\n",
    "    i = i//10\n",
    "if original == sum:\n",
    "    print(\"Given no. is Armstrong no.\")\n",
    "else:\n",
    "    print(\"No. is not Armstrong no.\")"
   ]
  },
  {
   "cell_type": "code",
   "execution_count": 15,
   "id": "ae5c09e2",
   "metadata": {},
   "outputs": [
    {
     "name": "stdout",
     "output_type": "stream",
     "text": [
      "Enter first num for lower range: 10\n",
      "Enter second num for upper range: 150\n",
      "64\n",
      "125\n"
     ]
    }
   ],
   "source": [
    "#Q.5 Armstrong no. in interval\n",
    "num1 = int(input(\"Enter first num for lower range: \"))\n",
    "num2 = int(input(\"Enter second num for upper range: \"))\n",
    "for num in range(num1, num2+1):\n",
    "    sum = 0\n",
    "    original = num\n",
    "    while original>0:\n",
    "        digit = original%10\n",
    "        sum+= digit **3\n",
    "        original = original//10\n",
    "        if num == sum:\n",
    "            print(num)\n",
    "        \n",
    "            "
   ]
  },
  {
   "cell_type": "code",
   "execution_count": 16,
   "id": "bb7e7efb",
   "metadata": {},
   "outputs": [
    {
     "name": "stdout",
     "output_type": "stream",
     "text": [
      "Enter a no. upto which we want sum of natural no.s: 5\n",
      "Sum of natural no.s is 15\n"
     ]
    }
   ],
   "source": [
    "#Q.6 Sum of natural numbers\n",
    "n = int(input(\"Enter a no. upto which we want sum of natural no.s: \"))\n",
    "i =1\n",
    "sum = 0\n",
    "while(i<=n):\n",
    "    sum = sum + i\n",
    "    i = i+1\n",
    "print(\"Sum of natural no.s is\", sum)\n",
    "   "
   ]
  },
  {
   "cell_type": "code",
   "execution_count": null,
   "id": "5854f72c",
   "metadata": {},
   "outputs": [],
   "source": []
  }
 ],
 "metadata": {
  "kernelspec": {
   "display_name": "Python 3 (ipykernel)",
   "language": "python",
   "name": "python3"
  },
  "language_info": {
   "codemirror_mode": {
    "name": "ipython",
    "version": 3
   },
   "file_extension": ".py",
   "mimetype": "text/x-python",
   "name": "python",
   "nbconvert_exporter": "python",
   "pygments_lexer": "ipython3",
   "version": "3.9.12"
  }
 },
 "nbformat": 4,
 "nbformat_minor": 5
}
