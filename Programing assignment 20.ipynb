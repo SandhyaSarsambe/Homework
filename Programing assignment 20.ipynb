{
 "cells": [
  {
   "cell_type": "code",
   "execution_count": 51,
   "id": "9bafd6e8",
   "metadata": {},
   "outputs": [
    {
     "name": "stdout",
     "output_type": "stream",
     "text": [
      "[1, 2, 77]\n"
     ]
    }
   ],
   "source": [
    "#Q.1 Sort the integer\n",
    "def list_of_integers(l):\n",
    "    l1=[]\n",
    "    for i in l:\n",
    "        if type(i)!=str:\n",
    "            l1.append(i)\n",
    "    return l1\n",
    "    \n",
    "print(list_of_integers([1,2,\"Hello\", 77, \"like\"]))\n",
    "    "
   ]
  },
  {
   "cell_type": "code",
   "execution_count": 95,
   "id": "2e0cf866",
   "metadata": {},
   "outputs": [
    {
     "name": "stdout",
     "output_type": "stream",
     "text": [
      "[2, 5, 68, 11, 13]\n"
     ]
    }
   ],
   "source": [
    "#Q.2\n",
    "l=[2,4,66,8,9]\n",
    "l2=[]\n",
    "for item in list(enumerate(l)):\n",
    "    l2.append(sum(item))\n",
    "print(l2)"
   ]
  },
  {
   "cell_type": "code",
   "execution_count": 47,
   "id": "ec5fb00c",
   "metadata": {},
   "outputs": [
    {
     "name": "stdout",
     "output_type": "stream",
     "text": [
      "Volume of cone 18.8\n"
     ]
    }
   ],
   "source": [
    "#Q.3 Volume of cone\n",
    "import math \n",
    "from math import pi\n",
    "def volume_of_cone(r, h):\n",
    "    return math.pi*r**2*h/3\n",
    "r = float(3)\n",
    "h = float(2)\n",
    "print(\"Volume of cone\",round(volume_of_cone(r, h),1))  "
   ]
  },
  {
   "cell_type": "code",
   "execution_count": 97,
   "id": "09b897a4",
   "metadata": {},
   "outputs": [
    {
     "name": "stdout",
     "output_type": "stream",
     "text": [
      "Enter the trinalge number :5\n",
      "The 5th triangle has 15 dots \n"
     ]
    }
   ],
   "source": [
    "#Q.4 Triangular no. sequence\n",
    "def triangle(n):\n",
    "    return n*(n+1)*0.5\n",
    "\n",
    "n = int(input('Enter the trinalge number :'))\n",
    "print(\"The {}th triangle has {} dots \".format(n,int(triangle(n))))"
   ]
  },
  {
   "cell_type": "code",
   "execution_count": 93,
   "id": "7894ddb7",
   "metadata": {},
   "outputs": [
    {
     "name": "stdout",
     "output_type": "stream",
     "text": [
      "[4]\n"
     ]
    }
   ],
   "source": [
    "#Q.5 Missing element\n",
    "def missing_element(l):\n",
    "    start = l[0]\n",
    "    end = l[-1]\n",
    "    return sorted(set(range(start, end+1)).difference(l))\n",
    "l=[1,2,3,5,6,7]\n",
    "print(missing_element(l))"
   ]
  },
  {
   "cell_type": "code",
   "execution_count": null,
   "id": "271bed2d",
   "metadata": {},
   "outputs": [],
   "source": []
  }
 ],
 "metadata": {
  "kernelspec": {
   "display_name": "Python 3 (ipykernel)",
   "language": "python",
   "name": "python3"
  },
  "language_info": {
   "codemirror_mode": {
    "name": "ipython",
    "version": 3
   },
   "file_extension": ".py",
   "mimetype": "text/x-python",
   "name": "python",
   "nbconvert_exporter": "python",
   "pygments_lexer": "ipython3",
   "version": "3.9.12"
  }
 },
 "nbformat": 4,
 "nbformat_minor": 5
}
