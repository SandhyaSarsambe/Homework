{
 "cells": [
  {
   "cell_type": "raw",
   "id": "4a40fdd4",
   "metadata": {},
   "source": [
    "Q.1\n",
    "No. PyInputPlus is a third-party module and doesn’t come with the Python Standard Library."
   ]
  },
  {
   "cell_type": "raw",
   "id": "fd36cda7",
   "metadata": {},
   "source": [
    "Q.2\n",
    "This optionally makes your code shorter to type: you can type pyip.inputStr() instead of pyinputplus.inputStr()."
   ]
  },
  {
   "cell_type": "raw",
   "id": "efc9938d",
   "metadata": {},
   "source": [
    "Q.3\n",
    "The inputInt() function returns an int value, while the inputFloat() function returns a float value. "
   ]
  },
  {
   "cell_type": "raw",
   "id": "f6309f1b",
   "metadata": {},
   "source": [
    "Q.4\n",
    "Call pyip.inputint(min=0, max=99)."
   ]
  },
  {
   "cell_type": "raw",
   "id": "2d962751",
   "metadata": {},
   "source": [
    "Q.5\n",
    "A list of regex strings that are either explicitly allowed or denied."
   ]
  },
  {
   "cell_type": "raw",
   "id": "6d49b717",
   "metadata": {},
   "source": [
    "Q.6\n",
    "A list of regex strings that are either explicitly allowed or denied"
   ]
  },
  {
   "cell_type": "raw",
   "id": "dcd541d0",
   "metadata": {},
   "source": [
    "Q.7\n",
    "The function returns the value 'hello'."
   ]
  }
 ],
 "metadata": {
  "kernelspec": {
   "display_name": "Python 3 (ipykernel)",
   "language": "python",
   "name": "python3"
  },
  "language_info": {
   "codemirror_mode": {
    "name": "ipython",
    "version": 3
   },
   "file_extension": ".py",
   "mimetype": "text/x-python",
   "name": "python",
   "nbconvert_exporter": "python",
   "pygments_lexer": "ipython3",
   "version": "3.9.12"
  }
 },
 "nbformat": 4,
 "nbformat_minor": 5
}
