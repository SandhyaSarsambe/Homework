{
 "cells": [
  {
   "cell_type": "code",
   "execution_count": 6,
   "id": "bd7d38a3",
   "metadata": {},
   "outputs": [
    {
     "name": "stdout",
     "output_type": "stream",
     "text": [
      "[5, 7, 9]\n",
      "[8, 10, 12]\n",
      "[10, 5, 9]\n"
     ]
    }
   ],
   "source": [
    "#Q.1 Add of two matrices\n",
    "a =[[1,2,3],\n",
    "   [2,3,4],\n",
    "   [3,4,5]]\n",
    "b =[[4,5,6],\n",
    "   [6,7,8],\n",
    "   [7,1,4]]\n",
    "result = [[0,0,0],\n",
    "         [0,0,0],\n",
    "         [0,0,0]]\n",
    "\n",
    "for i in range(len(a)):\n",
    "    for j in range(len(b[0])):\n",
    "        result[i][j] = a[i][j]+b[i][j]\n",
    "\n",
    "for r in result:\n",
    "    print(r)"
   ]
  },
  {
   "cell_type": "code",
   "execution_count": 23,
   "id": "d97ce3ba",
   "metadata": {},
   "outputs": [
    {
     "name": "stdout",
     "output_type": "stream",
     "text": [
      "[14, 20]\n",
      "[11, 17]\n"
     ]
    }
   ],
   "source": [
    " #Q.2 Multiplication of two matrices\n",
    "\n",
    "a= [[1,2,3],\n",
    "    [2,3,1]]\n",
    "b= [[1,2],\n",
    "   [2,3],\n",
    "   [3,4]]\n",
    "res = [[0,0],\n",
    "      [0,0]]\n",
    "for i in range(len(a)):\n",
    "    for j in range(len(b[0])):\n",
    "        for k in range(len(b)):\n",
    "            res[i][j] += a[i][k]*b[k][j]\n",
    "        \n",
    "for r in res:\n",
    "    print(r)"
   ]
  },
  {
   "cell_type": "code",
   "execution_count": 21,
   "id": "b50921ef",
   "metadata": {},
   "outputs": [
    {
     "name": "stdout",
     "output_type": "stream",
     "text": [
      "[1, 5, 8]\n",
      "[2, 4, 7]\n"
     ]
    }
   ],
   "source": [
    "#Q.3 Transpose of a matrix\n",
    "a=[[1,2],\n",
    "  [5,4],\n",
    "  [8,7]]\n",
    "res = [[0,0,0],\n",
    "       [0,0,0]]\n",
    "for i in range(len(a)):\n",
    "    for j in range(len(a[0])):\n",
    "        res[j][i] = a[i][j]\n",
    "for r in res:\n",
    "    print(r)\n",
    "    "
   ]
  },
  {
   "cell_type": "code",
   "execution_count": 27,
   "id": "46eca289",
   "metadata": {},
   "outputs": [],
   "source": [
    "#Q.4 Sort words in alphabetic order\n",
    "a= [\"sandhya\", \"girl\", \"lady\",\"home\",\"fruits\"]\n",
    "a.sort()"
   ]
  },
  {
   "cell_type": "code",
   "execution_count": 28,
   "id": "46bc7fc2",
   "metadata": {},
   "outputs": [
    {
     "data": {
      "text/plain": [
       "['fruits', 'girl', 'home', 'lady', 'sandhya']"
      ]
     },
     "execution_count": 28,
     "metadata": {},
     "output_type": "execute_result"
    }
   ],
   "source": [
    "a"
   ]
  },
  {
   "cell_type": "code",
   "execution_count": 40,
   "id": "1a89267b",
   "metadata": {},
   "outputs": [
    {
     "name": "stdout",
     "output_type": "stream",
     "text": [
      "Enter a string: sandhya@sarsambe#maharashtr&a\n",
      "sandhyasarsambe#maharashtr&a\n",
      "sandhyasarsambemaharashtr&a\n",
      "sandhyasarsambemaharashtra\n"
     ]
    }
   ],
   "source": [
    "#Q.5 Removing a punctuation\n",
    "string = input(\"Enter a string: \")\n",
    "punctuations = '''!@#$%&*_+,\"\"[]{}()<>.?/\\|~'''\n",
    "for i in string:\n",
    "    if i in punctuations:\n",
    "        string = string.replace(i, \"\")\n",
    "        print(string)"
   ]
  },
  {
   "cell_type": "code",
   "execution_count": null,
   "id": "15c01a5f",
   "metadata": {},
   "outputs": [],
   "source": []
  }
 ],
 "metadata": {
  "kernelspec": {
   "display_name": "Python 3 (ipykernel)",
   "language": "python",
   "name": "python3"
  },
  "language_info": {
   "codemirror_mode": {
    "name": "ipython",
    "version": 3
   },
   "file_extension": ".py",
   "mimetype": "text/x-python",
   "name": "python",
   "nbconvert_exporter": "python",
   "pygments_lexer": "ipython3",
   "version": "3.9.12"
  }
 },
 "nbformat": 4,
 "nbformat_minor": 5
}
