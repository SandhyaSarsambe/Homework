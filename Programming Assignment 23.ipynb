{
 "cells": [
  {
   "cell_type": "code",
   "execution_count": 6,
   "id": "d4984f7f",
   "metadata": {},
   "outputs": [],
   "source": [
    "#Q.1 Reverse\n",
    "def rev(n):\n",
    "    reverse = 0\n",
    "    x = n\n",
    "    while(n>0):\n",
    "        reverse = (reverse*10)+n%10\n",
    "        n=n//10\n",
    "    if x == reverse:\n",
    "        return True\n",
    "    else:\n",
    "        return False\n",
    "    \n",
    "\n"
   ]
  },
  {
   "cell_type": "code",
   "execution_count": 7,
   "id": "99b55e52",
   "metadata": {},
   "outputs": [
    {
     "data": {
      "text/plain": [
       "True"
      ]
     },
     "execution_count": 7,
     "metadata": {},
     "output_type": "execute_result"
    }
   ],
   "source": [
    "rev(7227)"
   ]
  },
  {
   "cell_type": "code",
   "execution_count": 8,
   "id": "29204b9a",
   "metadata": {},
   "outputs": [
    {
     "data": {
      "text/plain": [
       "False"
      ]
     },
     "execution_count": 8,
     "metadata": {},
     "output_type": "execute_result"
    }
   ],
   "source": [
    "rev(12567)"
   ]
  },
  {
   "cell_type": "code",
   "execution_count": 9,
   "id": "fe6369e6",
   "metadata": {},
   "outputs": [
    {
     "data": {
      "text/plain": [
       "True"
      ]
     },
     "execution_count": 9,
     "metadata": {},
     "output_type": "execute_result"
    }
   ],
   "source": [
    "rev(44444444)"
   ]
  },
  {
   "cell_type": "code",
   "execution_count": 17,
   "id": "1e6ecd22",
   "metadata": {},
   "outputs": [],
   "source": [
    "#Q.2 Multiply no.s\n",
    "def multiply_nums(s):\n",
    "    s = s.replace(' ', \"\")\n",
    "    s = s.split(',')\n",
    "    sum = 1\n",
    "    for i in s:\n",
    "        sum = sum * int(i)\n",
    "    return sum"
   ]
  },
  {
   "cell_type": "code",
   "execution_count": 18,
   "id": "b2593dd9",
   "metadata": {},
   "outputs": [
    {
     "data": {
      "text/plain": [
       "6"
      ]
     },
     "execution_count": 18,
     "metadata": {},
     "output_type": "execute_result"
    }
   ],
   "source": [
    "multiply_nums('2, 3')"
   ]
  },
  {
   "cell_type": "code",
   "execution_count": 20,
   "id": "2188e0fd",
   "metadata": {},
   "outputs": [
    {
     "data": {
      "text/plain": [
       "0"
      ]
     },
     "execution_count": 20,
     "metadata": {},
     "output_type": "execute_result"
    }
   ],
   "source": [
    "multiply_nums('2, 32, 678, 89, 0')"
   ]
  },
  {
   "cell_type": "code",
   "execution_count": 29,
   "id": "110931b5",
   "metadata": {},
   "outputs": [],
   "source": [
    "#Q.3 Square a digit\n",
    "def square(num):\n",
    "    z = ''.join(str(int(i)**2) for i in str(num))\n",
    "    return z"
   ]
  },
  {
   "cell_type": "code",
   "execution_count": 30,
   "id": "03dbc7bf",
   "metadata": {},
   "outputs": [
    {
     "data": {
      "text/plain": [
       "'81441'"
      ]
     },
     "execution_count": 30,
     "metadata": {},
     "output_type": "execute_result"
    }
   ],
   "source": [
    "square(9221)"
   ]
  },
  {
   "cell_type": "code",
   "execution_count": 31,
   "id": "9dacaef4",
   "metadata": {},
   "outputs": [
    {
     "data": {
      "text/plain": [
       "'14916'"
      ]
     },
     "execution_count": 31,
     "metadata": {},
     "output_type": "execute_result"
    }
   ],
   "source": [
    "square(1234)"
   ]
  },
  {
   "cell_type": "code",
   "execution_count": 54,
   "id": "2840d363",
   "metadata": {},
   "outputs": [],
   "source": [
    "#Q.4 Sorted list\n",
    "def sort_of_lst(l):\n",
    "    l=sorted(set(l))\n",
    "    return l"
   ]
  },
  {
   "cell_type": "code",
   "execution_count": 55,
   "id": "6db9c1aa",
   "metadata": {},
   "outputs": [
    {
     "data": {
      "text/plain": [
       "[1, 3, 4, 7, 8, 22]"
      ]
     },
     "execution_count": 55,
     "metadata": {},
     "output_type": "execute_result"
    }
   ],
   "source": [
    "sort_of_lst([1,22,3,4,8,7])"
   ]
  },
  {
   "cell_type": "code",
   "execution_count": 56,
   "id": "dd99ea8c",
   "metadata": {},
   "outputs": [
    {
     "data": {
      "text/plain": [
       "[1, 2, 3, 4, 6, 7, 8]"
      ]
     },
     "execution_count": 56,
     "metadata": {},
     "output_type": "execute_result"
    }
   ],
   "source": [
    "sort_of_lst([1,2,3,4,4,6,8,7])"
   ]
  },
  {
   "cell_type": "code",
   "execution_count": 61,
   "id": "d51a49aa",
   "metadata": {},
   "outputs": [],
   "source": [
    "#Q.5 Mean of a no.\n",
    "def mean_of_no(n):\n",
    "    N = len(str(n))\n",
    "    sum = 0\n",
    "    while(n>0):\n",
    "        sum = sum + n%10\n",
    "        n = n//10\n",
    "        mean = sum/N\n",
    "    return int(mean)"
   ]
  },
  {
   "cell_type": "code",
   "execution_count": 62,
   "id": "4abc06e8",
   "metadata": {},
   "outputs": [
    {
     "data": {
      "text/plain": [
       "2"
      ]
     },
     "execution_count": 62,
     "metadata": {},
     "output_type": "execute_result"
    }
   ],
   "source": [
    "mean_of_no(123)"
   ]
  },
  {
   "cell_type": "code",
   "execution_count": 63,
   "id": "30be8f4a",
   "metadata": {},
   "outputs": [
    {
     "data": {
      "text/plain": [
       "3"
      ]
     },
     "execution_count": 63,
     "metadata": {},
     "output_type": "execute_result"
    }
   ],
   "source": [
    "mean_of_no(42)"
   ]
  },
  {
   "cell_type": "code",
   "execution_count": 64,
   "id": "c1384079",
   "metadata": {},
   "outputs": [
    {
     "data": {
      "text/plain": [
       "6"
      ]
     },
     "execution_count": 64,
     "metadata": {},
     "output_type": "execute_result"
    }
   ],
   "source": [
    "mean_of_no(666)"
   ]
  },
  {
   "cell_type": "code",
   "execution_count": null,
   "id": "3837fc3f",
   "metadata": {},
   "outputs": [],
   "source": []
  }
 ],
 "metadata": {
  "kernelspec": {
   "display_name": "Python 3 (ipykernel)",
   "language": "python",
   "name": "python3"
  },
  "language_info": {
   "codemirror_mode": {
    "name": "ipython",
    "version": 3
   },
   "file_extension": ".py",
   "mimetype": "text/x-python",
   "name": "python",
   "nbconvert_exporter": "python",
   "pygments_lexer": "ipython3",
   "version": "3.9.12"
  }
 },
 "nbformat": 4,
 "nbformat_minor": 5
}
