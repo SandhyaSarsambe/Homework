{
 "cells": [
  {
   "cell_type": "raw",
   "id": "0c8a49a1",
   "metadata": {},
   "source": [
    "Q.1\n",
    "Relative paths are relative to the current working directory."
   ]
  },
  {
   "cell_type": "raw",
   "id": "3738b2b5",
   "metadata": {},
   "source": [
    "Q.2\n",
    "Absolute paths start with the root folder, such as / or C:."
   ]
  },
  {
   "cell_type": "raw",
   "id": "4cfafc16",
   "metadata": {},
   "source": [
    "Q.3\n",
    "The os.getcwd() function returns the current working directory. The os.chdir() function changes the current working directory."
   ]
  },
  {
   "cell_type": "raw",
   "id": "f7b1d1e5",
   "metadata": {},
   "source": [
    "Q.4\n",
    "The . folder is the current folder, and .. is the parent folder."
   ]
  },
  {
   "cell_type": "raw",
   "id": "430b42bb",
   "metadata": {},
   "source": [
    "Q.5\n",
    "C:\\bacon\\eggs is the dir name, while spam.txt is the base name."
   ]
  },
  {
   "cell_type": "raw",
   "id": "4bab3809",
   "metadata": {},
   "source": [
    "Q.6\n",
    "The string 'r' for read mode, 'w' for write mode, and 'a' for append mode."
   ]
  },
  {
   "cell_type": "raw",
   "id": "0e1a4722",
   "metadata": {},
   "source": [
    "Q.7\n",
    "An existing file opened in write mode is erased and completely overwritten."
   ]
  },
  {
   "cell_type": "raw",
   "id": "8148d092",
   "metadata": {},
   "source": [
    "Q.8\n",
    "The read() method returns the file’s entire contents as a single string value. The readlines() method returns a list of strings, where each string is a line from the file’s contents."
   ]
  },
  {
   "cell_type": "raw",
   "id": "562f3428",
   "metadata": {},
   "source": [
    "Q.9\n",
    "A shelf value resembles a dictionary value; it has keys and values, along with keys() and values() methods that work similarly to the dictionary methods of the same names."
   ]
  }
 ],
 "metadata": {
  "kernelspec": {
   "display_name": "Python 3 (ipykernel)",
   "language": "python",
   "name": "python3"
  },
  "language_info": {
   "codemirror_mode": {
    "name": "ipython",
    "version": 3
   },
   "file_extension": ".py",
   "mimetype": "text/x-python",
   "name": "python",
   "nbconvert_exporter": "python",
   "pygments_lexer": "ipython3",
   "version": "3.9.12"
  }
 },
 "nbformat": 4,
 "nbformat_minor": 5
}
