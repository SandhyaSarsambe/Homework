{
 "cells": [
  {
   "cell_type": "code",
   "execution_count": 1,
   "id": "b317ed3c",
   "metadata": {},
   "outputs": [
    {
     "name": "stdout",
     "output_type": "stream",
     "text": [
      "Enter word:incredible\n",
      "in..in..incredible?\n"
     ]
    }
   ],
   "source": [
    "#Q.1 Shutter word\n",
    "def shutter(s):\n",
    "    return (2*(s[:2]+'..')+ s + '?')\n",
    "s=input(\"Enter word:\")\n",
    "print(shutter(s))"
   ]
  },
  {
   "cell_type": "code",
   "execution_count": 2,
   "id": "79f16b65",
   "metadata": {},
   "outputs": [
    {
     "name": "stdout",
     "output_type": "stream",
     "text": [
      "Enter radian:1\n",
      "degree= 57.21733049365841\n"
     ]
    }
   ],
   "source": [
    "#Q.2 Angle radian to degree\n",
    "def rad_to_degree(radian):\n",
    "    pi = 3.1459\n",
    "    degree = radian*(180/pi)\n",
    "    \n",
    "    return degree\n",
    "\n",
    "radian = float(input(\"Enter radian:\"))\n",
    "print(\"degree=\", (rad_to_degree(radian)))"
   ]
  },
  {
   "cell_type": "code",
   "execution_count": 3,
   "id": "4a06f2f0",
   "metadata": {},
   "outputs": [
    {
     "name": "stdout",
     "output_type": "stream",
     "text": [
      "Enter a no.5\n",
      "No. is Curzon\n"
     ]
    },
    {
     "data": {
      "text/plain": [
       "True"
      ]
     },
     "execution_count": 3,
     "metadata": {},
     "output_type": "execute_result"
    }
   ],
   "source": [
    "#Q.3 Check for curzon no.\n",
    "def is_curzon(n):\n",
    "    power, product = 0, 0\n",
    "    power = pow(2, n)+1\n",
    "    product = (2*n)+1\n",
    "    if (power%product)==0:\n",
    "        print(\"No. is Curzon\")\n",
    "        return True\n",
    "    else:\n",
    "        print(\"No. is not Curzon\")\n",
    "        \n",
    "n= int(input(\"Enter a no.\"))\n",
    "is_curzon(n)"
   ]
  },
  {
   "cell_type": "code",
   "execution_count": 4,
   "id": "03b82a56",
   "metadata": {},
   "outputs": [
    {
     "name": "stdout",
     "output_type": "stream",
     "text": [
      "Enter length of side:1\n"
     ]
    },
    {
     "data": {
      "text/plain": [
       "2.598076211353316"
      ]
     },
     "execution_count": 4,
     "metadata": {},
     "output_type": "execute_result"
    }
   ],
   "source": [
    "#Q.4 Area of Hexagon\n",
    "def area_of_hexagon(n):\n",
    "    import math\n",
    "    area = (3*math.sqrt(3)*s**2/2)\n",
    "    return area\n",
    "s = float(input(\"Enter length of side:\"))\n",
    "area_of_hexagon(n)\n",
    "    "
   ]
  },
  {
   "cell_type": "code",
   "execution_count": 7,
   "id": "ee58a9a9",
   "metadata": {},
   "outputs": [
    {
     "name": "stdout",
     "output_type": "stream",
     "text": [
      "1001\n",
      "101\n"
     ]
    }
   ],
   "source": [
    "#Q.5 Base Conversion\n",
    "def base_conversion(N):\n",
    "    s=''\n",
    "    while(N!=0):\n",
    "        if (N%2==0):\n",
    "            s=\"0\"+s\n",
    "        else:\n",
    "            s=\"1\"+s\n",
    "            N = N-1\n",
    "        N = N/2\n",
    "    if (s==\"\"):\n",
    "        s=\"0\"\n",
    "    return s\n",
    "print(base_conversion(9))\n",
    "print(base_conversion(5))"
   ]
  },
  {
   "cell_type": "code",
   "execution_count": null,
   "id": "cf406e91",
   "metadata": {},
   "outputs": [],
   "source": []
  }
 ],
 "metadata": {
  "kernelspec": {
   "display_name": "Python 3 (ipykernel)",
   "language": "python",
   "name": "python3"
  },
  "language_info": {
   "codemirror_mode": {
    "name": "ipython",
    "version": 3
   },
   "file_extension": ".py",
   "mimetype": "text/x-python",
   "name": "python",
   "nbconvert_exporter": "python",
   "pygments_lexer": "ipython3",
   "version": "3.9.12"
  }
 },
 "nbformat": 4,
 "nbformat_minor": 5
}
