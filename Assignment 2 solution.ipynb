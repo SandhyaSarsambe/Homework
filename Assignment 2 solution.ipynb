{
 "cells": [
  {
   "cell_type": "raw",
   "id": "3bb773fb",
   "metadata": {},
   "source": [
    "Q.1 Two Boolean data types\n",
    "1. True\n",
    "2. False"
   ]
  },
  {
   "cell_type": "raw",
   "id": "0d401456",
   "metadata": {},
   "source": [
    "Q.2 Three Boolean operators\n",
    "1. AND\n",
    "2. OR\n",
    "3. NOT"
   ]
  },
  {
   "cell_type": "raw",
   "id": "3498f7e0",
   "metadata": {},
   "source": [
    "Q.3 Boolean operators truth table\n",
    "AND Operator\n",
    "True True True\n",
    "True False False\n",
    "False True False\n",
    "False False False\n",
    "OR Operator\n",
    "True True True\n",
    "True False True\n",
    "False True True\n",
    "False False False\n",
    "NOT Operator \n",
    "True ---- False\n",
    "False ---- True\n",
    "\n"
   ]
  },
  {
   "cell_type": "code",
   "execution_count": 1,
   "id": "693b3e3b",
   "metadata": {},
   "outputs": [
    {
     "data": {
      "text/plain": [
       "False"
      ]
     },
     "execution_count": 1,
     "metadata": {},
     "output_type": "execute_result"
    }
   ],
   "source": [
    "#Q.4 Evaluate\n",
    "(5 > 4) and (3 == 5)"
   ]
  },
  {
   "cell_type": "code",
   "execution_count": 2,
   "id": "6c317f7f",
   "metadata": {},
   "outputs": [
    {
     "data": {
      "text/plain": [
       "False"
      ]
     },
     "execution_count": 2,
     "metadata": {},
     "output_type": "execute_result"
    }
   ],
   "source": [
    "not (5 > 4)"
   ]
  },
  {
   "cell_type": "code",
   "execution_count": 3,
   "id": "36125943",
   "metadata": {},
   "outputs": [
    {
     "data": {
      "text/plain": [
       "True"
      ]
     },
     "execution_count": 3,
     "metadata": {},
     "output_type": "execute_result"
    }
   ],
   "source": [
    "(5 > 4) or (3 == 5)"
   ]
  },
  {
   "cell_type": "code",
   "execution_count": 4,
   "id": "482e4cb2",
   "metadata": {},
   "outputs": [
    {
     "data": {
      "text/plain": [
       "False"
      ]
     },
     "execution_count": 4,
     "metadata": {},
     "output_type": "execute_result"
    }
   ],
   "source": [
    "not ((5 > 4) or (3 == 5))"
   ]
  },
  {
   "cell_type": "code",
   "execution_count": 5,
   "id": "a67198ff",
   "metadata": {},
   "outputs": [
    {
     "data": {
      "text/plain": [
       "False"
      ]
     },
     "execution_count": 5,
     "metadata": {},
     "output_type": "execute_result"
    }
   ],
   "source": [
    "(True and True) and (True == False)"
   ]
  },
  {
   "cell_type": "code",
   "execution_count": 6,
   "id": "5a97c353",
   "metadata": {},
   "outputs": [
    {
     "data": {
      "text/plain": [
       "True"
      ]
     },
     "execution_count": 6,
     "metadata": {},
     "output_type": "execute_result"
    }
   ],
   "source": [
    "(not False) or (not True)"
   ]
  },
  {
   "cell_type": "raw",
   "id": "e50671fc",
   "metadata": {},
   "source": [
    "Q.5 Six comparison operators\n",
    "i) > Greater than\n",
    "ii) >= Greater than or equal to\n",
    "iii) < Less than\n",
    "iv) <= Less than or equal to\n",
    "v) == Equal to\n",
    "vi) != Not equal to"
   ]
  },
  {
   "cell_type": "raw",
   "id": "ed533abf",
   "metadata": {},
   "source": [
    "Q.6 Difference between equal to and assignment operator\n",
    "Assignment operator: '=' is assignment operator. To assign a value to variable we can use the assignment operator. Constant term cannot be given on left side of assignment operator.\n",
    "Equal to: '==' is an equal to operator. To compare the two values, we use the equal to operator. Constant term can be given on left side and right hand side of equal to operator."
   ]
  },
  {
   "cell_type": "code",
   "execution_count": 11,
   "id": "25e0beca",
   "metadata": {},
   "outputs": [
    {
     "name": "stdout",
     "output_type": "stream",
     "text": [
      "ham\n",
      "spam\n",
      "spam\n"
     ]
    }
   ],
   "source": [
    "#Q.7 Identify three blocks\n",
    "spam = 0\n",
    "\n",
    "if spam == 10:\n",
    "    print('eggs')\n",
    "\n",
    "if spam > 5:\n",
    "    print('bacon')\n",
    "else:\n",
    "    print('ham')\n",
    "print('spam')\n",
    "print('spam')\n"
   ]
  },
  {
   "cell_type": "code",
   "execution_count": 14,
   "id": "2cded2bd",
   "metadata": {},
   "outputs": [
    {
     "name": "stdout",
     "output_type": "stream",
     "text": [
      "Enter a no. for spam:2\n",
      "Howdy\n"
     ]
    }
   ],
   "source": [
    "#Q.8\n",
    "spam=int(input(\"Enter a no. for spam:\"))\n",
    "if spam == 1:\n",
    "    print(\"Hello\")\n",
    "elif spam == 2:\n",
    "    print(\"Howdy\")\n",
    "else:\n",
    "    print(\"Greetings\")"
   ]
  },
  {
   "cell_type": "raw",
   "id": "58d06fce",
   "metadata": {},
   "source": [
    "Q.9 If my programme is stuck in endless loop then at that time i'll press the break.  "
   ]
  },
  {
   "cell_type": "raw",
   "id": "02e47ce2",
   "metadata": {},
   "source": [
    "Q.10 Difference between break  and continue:\n",
    "When the break keyword is come in for loop or while loop, at that time it terminates the execution of the condition and exit to the next loop or it will come to the main body of programme,\n",
    "While the continue keyword is come in for loop or while loop at that time it skips that iteration and jumps to the next iteration in the loop."
   ]
  },
  {
   "cell_type": "raw",
   "id": "6ee7935d",
   "metadata": {},
   "source": [
    "Q.11 Difference between range(10), range(0,10) and range(0,10,1)\n",
    "These three expressions gives the same result but these are three different ways of writting range function. \n",
    "In the first expression just we mentioned end value 10, in second expression we mentioned start value as 0 and end value as 10 and in third expression we mentioned start value as 0, end value as 10 with step size 1.\n"
   ]
  },
  {
   "cell_type": "code",
   "execution_count": 2,
   "id": "3605f3ab",
   "metadata": {},
   "outputs": [
    {
     "name": "stdout",
     "output_type": "stream",
     "text": [
      "1\n",
      "2\n",
      "3\n",
      "4\n",
      "5\n",
      "6\n",
      "7\n",
      "8\n",
      "9\n",
      "10\n"
     ]
    }
   ],
   "source": [
    "#Q.12 By using for loop\n",
    "for i in range(1,11,1):\n",
    "    print(i)"
   ]
  },
  {
   "cell_type": "code",
   "execution_count": 3,
   "id": "f0eb541e",
   "metadata": {},
   "outputs": [
    {
     "name": "stdout",
     "output_type": "stream",
     "text": [
      "1\n",
      "2\n",
      "3\n",
      "4\n",
      "5\n",
      "6\n",
      "7\n",
      "8\n",
      "9\n",
      "10\n"
     ]
    }
   ],
   "source": [
    "#Q.12 By using while loop\n",
    "i=1\n",
    "while i<=10:\n",
    "    print(i)\n",
    "    i+=1"
   ]
  },
  {
   "cell_type": "raw",
   "id": "803132fb",
   "metadata": {},
   "source": [
    "Q.13 If you had a function named bacon() inside a module named spam, how would you call it after importing spam?\n",
    "we can call as spam.bacon()"
   ]
  }
 ],
 "metadata": {
  "kernelspec": {
   "display_name": "Python 3 (ipykernel)",
   "language": "python",
   "name": "python3"
  },
  "language_info": {
   "codemirror_mode": {
    "name": "ipython",
    "version": 3
   },
   "file_extension": ".py",
   "mimetype": "text/x-python",
   "name": "python",
   "nbconvert_exporter": "python",
   "pygments_lexer": "ipython3",
   "version": "3.9.12"
  }
 },
 "nbformat": 4,
 "nbformat_minor": 5
}
